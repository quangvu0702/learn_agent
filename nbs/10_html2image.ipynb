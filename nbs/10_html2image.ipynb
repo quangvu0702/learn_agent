{
 "cells": [
  {
   "cell_type": "code",
   "execution_count": 1,
   "metadata": {},
   "outputs": [],
   "source": [
    "# pip install imgkit\n",
    "# !pip install playwright\n",
    "# !playwright install"
   ]
  },
  {
   "cell_type": "code",
   "execution_count": 2,
   "metadata": {},
   "outputs": [
    {
     "name": "stdout",
     "output_type": "stream",
     "text": [
      "/home/vule/projects/learn_agent\n"
     ]
    }
   ],
   "source": [
    "cd .."
   ]
  },
  {
   "cell_type": "markdown",
   "metadata": {},
   "source": [
    "**Screenshot**"
   ]
  },
  {
   "cell_type": "code",
   "execution_count": 3,
   "metadata": {},
   "outputs": [],
   "source": [
    "input_fn = \"data/sample.html\"\n",
    "html_image_fn = \"data/html_image.png\"\n",
    "designed_image_fn = \"data/designed_image.png\""
   ]
  },
  {
   "cell_type": "code",
   "execution_count": 4,
   "metadata": {},
   "outputs": [
    {
     "name": "stdout",
     "output_type": "stream",
     "text": [
      "Screenshot saved as 'data/html_image.png'\n"
     ]
    }
   ],
   "source": [
    "from src.screenshot import take_screenshot\n",
    "# Run the async function\n",
    "await take_screenshot(input_fn, html_image_fn)\n"
   ]
  },
  {
   "cell_type": "code",
   "execution_count": 5,
   "metadata": {},
   "outputs": [],
   "source": [
    "from PIL import Image\n",
    "import requests\n",
    "from io import BytesIO\n",
    "import matplotlib.pyplot as plt\n",
    "\n",
    "# load html_image_fn image, resize and save it back\n",
    "image = Image.open(html_image_fn)\n",
    "resize_image = image.resize((800, 600))\n",
    "resize_image.save(f'{html_image_fn.split(\".\")[0]}_resized.png')\n",
    "\n",
    "# load designed_image_fn image, resize and save it back\n",
    "image = Image.open(designed_image_fn)\n",
    "resize_image = image.resize((800, 600))\n",
    "resize_image.save(f'{designed_image_fn.split(\".\")[0]}_resized.png')\n"
   ]
  },
  {
   "cell_type": "code",
   "execution_count": 6,
   "metadata": {},
   "outputs": [],
   "source": [
    "# !pip install langchain-google-genai"
   ]
  },
  {
   "cell_type": "code",
   "execution_count": 7,
   "metadata": {},
   "outputs": [
    {
     "name": "stderr",
     "output_type": "stream",
     "text": [
      "/home/vule/miniconda3/envs/learn/lib/python3.10/site-packages/IPython/core/interactiveshell.py:3577: LangChainDeprecationWarning: As of langchain-core 0.3.0, LangChain uses pydantic v2 internally. The langchain_core.pydantic_v1 module was a compatibility shim for pydantic v1, and should no longer be used. Please update the code to import from Pydantic directly.\n",
      "\n",
      "For example, replace imports like: `from langchain_core.pydantic_v1 import BaseModel`\n",
      "with: `from pydantic import BaseModel`\n",
      "or the v1 compatibility namespace if you are working in a code base that has not been fully upgraded to pydantic 2 yet. \tfrom pydantic.v1 import BaseModel\n",
      "\n",
      "  exec(code_obj, self.user_global_ns, self.user_ns)\n",
      "/home/vule/miniconda3/envs/learn/lib/python3.10/site-packages/tqdm/auto.py:21: TqdmWarning: IProgress not found. Please update jupyter and ipywidgets. See https://ipywidgets.readthedocs.io/en/stable/user_install.html\n",
      "  from .autonotebook import tqdm as notebook_tqdm\n"
     ]
    }
   ],
   "source": [
    "from langchain.output_parsers import PydanticOutputParser\n",
    "from langchain_core.prompts import ChatPromptTemplate\n",
    "from langchain_core.pydantic_v1 import BaseModel, Field\n",
    "from src.key import gemini_api_key\n",
    "from langchain_google_genai import ChatGoogleGenerativeAI\n",
    "import base64\n",
    "\n",
    "def load_base64(fn):\n",
    "    with open(fn, \"rb\") as image_file:\n",
    "        return base64.b64encode(image_file.read()).decode('utf-8')\n",
    "\n",
    "\n",
    "llm = ChatGoogleGenerativeAI(\n",
    "    model=\"gemini-1.5-pro\",\n",
    "    google_api_key=gemini_api_key\n",
    ")\n",
    "\n",
    "from langchain.schema import HumanMessage, SystemMessage\n",
    "import io\n",
    "\n",
    "# Load and encode the image\n",
    "designed_image = load_base64(designed_image_fn.split(\".\")[0] + \"_resized.png\")\n",
    "html_image = load_base64(html_image_fn.split(\".\")[0] + \"_resized.png\")\n",
    "\n",
    "# Create messages with image\n",
    "prompt_template = ChatPromptTemplate.from_messages([\n",
    "    (\"system\", \"You are a Frontend Developer. You are given a htmlwebpage screenshot and a designed image.\"),\n",
    "    (\"human\", [\n",
    "        {\"type\": \"text\", \"text\": \"Tell me what html should be changed to make the designed image.\"},\n",
    "        {\"type\": \"image_url\", \"image_url\": {\n",
    "            \"url\": f\"data:image/png;base64,{designed_image}\", \n",
    "            \"name\": \"designed_image.png\"\n",
    "        }},\n",
    "        {\"type\": \"image_url\", \"image_url\": {\n",
    "            \"url\": f\"data:image/png;base64,{html_image}\",\n",
    "            \"name\": \"html_image.png\"\n",
    "        }}\n",
    "    ])\n",
    "])\n",
    "\n",
    "# messages = prompt_template.invoke({'designed_image': designed_image, 'html_image': html_image})\n",
    "# messages.messages\n",
    "\n",
    "# # Get response from LLM\n",
    "# response = llm.invoke(messages)\n",
    "# print(response)\n"
   ]
  },
  {
   "cell_type": "code",
   "execution_count": 8,
   "metadata": {},
   "outputs": [
    {
     "data": {
      "text/plain": [
       "AIMessage(content='', additional_kwargs={'function_call': {'name': 'Reflection', 'arguments': '{\"is_identical\": true, \"score\": 10.0, \"missing_elements\": [], \"wrong_position\": []}'}}, response_metadata={'prompt_feedback': {'block_reason': 0, 'safety_ratings': []}, 'finish_reason': 'STOP', 'safety_ratings': []}, id='run-72bb6758-f957-4057-a34b-91eee165fded-0', tool_calls=[{'name': 'Reflection', 'args': {'is_identical': True, 'score': 10.0, 'missing_elements': [], 'wrong_position': []}, 'id': '79f93397-525e-4e4b-ab90-165ffc83abe2', 'type': 'tool_call'}], usage_metadata={'input_tokens': 665, 'output_tokens': 11, 'total_tokens': 676, 'input_token_details': {'cache_read': 0}})"
      ]
     },
     "execution_count": 8,
     "metadata": {},
     "output_type": "execute_result"
    }
   ],
   "source": [
    "from langchain_core.output_parsers.openai_tools import (\n",
    "    JsonOutputToolsParser,\n",
    "    PydanticToolsParser,\n",
    ")\n",
    "\n",
    "class Reflection(BaseModel):\n",
    "    missing_elements: list[str] = Field(description=\"The missing elements.\")\n",
    "    wrong_position: list[str] = Field(description=\"The wrong position of the elements.\")\n",
    "    score: int = Field(description=\"The similarity score of the designed image and the html image, from 0 to 10\", ge=0, le=10)\n",
    "    is_identical: bool = Field(description=\"Whether the designed image and the html image are identical.\")\n",
    "    @property\n",
    "    def normalized_score(self) -> float:\n",
    "        return self.score / 10\n",
    "\n",
    "    @property\n",
    "    def is_good_score(self) -> bool:\n",
    "        return self.normalized_score >= 0.8\n",
    "    \n",
    "\n",
    "parser = PydanticToolsParser(tools=[Reflection])\n",
    "\n",
    "# create reflection chain\n",
    "reflection_chain = prompt_template | llm.bind_tools(tools=[Reflection], tool_choice=\"Reflection\")\n",
    "\n",
    "# run the chain\n",
    "reflection = reflection_chain.invoke({'designed_image': designed_image, 'html_image': html_image})\n",
    "\n",
    "reflection"
   ]
  },
  {
   "cell_type": "code",
   "execution_count": 9,
   "metadata": {},
   "outputs": [
    {
     "data": {
      "text/plain": [
       "[HtmlContent(missing_elements=[], wrong_position=[], score=10, is_identical=True, html_content='<!DOCTYPE html>\\\\n<html lang=\\\\\"en\\\\\">\\\\n<head>\\\\n    <meta charset=\\\\\"UTF-8\\\\\">\\\\n    <meta name=\\\\\"viewport\\\\\" content=\\\\\"width=device-width, initial-scale=1.0\\\\\">\\\\n    <title>Welcome to Our Website</title>\\\\n    <script src=\\\\\"https://cdn.tailwindcss.com\\\\\"></script>\\\\n</head>\\\\n<body class=\\\\\"bg-gray-100\\\\\">\\\\n    <nav class=\\\\\"bg-blue-500 p-4\\\\\">\\\\n        <div class=\\\\\"container mx-auto flex justify-between items-center\\\\\">\\\\n            <div class=\\\\\"text-white font-bold text-xl\\\\\">Brand</div>\\\\n            <div class=\\\\\"text-white\\\\\">\\\\n                <a href=\\\\\"#\\\\\" class=\\\\\"mr-4\\\\\">Home</a>\\\\n                <a href=\\\\\"#\\\\\" class=\\\\\"mr-4\\\\\">About</a>\\\\n                <a href=\\\\\"#\\\\\" class=\\\\\"mr-4\\\\\">Services</a>\\\\n                <a href=\\\\\"#\\\\\">Contact</a>\\\\n            </div>\\\\n        </div>\\\\n    </nav>\\\\n\\\\n    <header class=\\\\\"bg-blue-500 py-20\\\\\">\\\\n        <div class=\\\\\"container mx-auto text-center\\\\\">\\\\n            <h1 class=\\\\\"text-white text-5xl font-bold mb-4\\\\\">Welcome to Our Website</h1>\\\\n            <p class=\\\\\"text-white text-lg mb-8\\\\\">This is a sample page built with Tailwind CSS.</p>\\\\n            <button class=\\\\\"bg-white hover:bg-gray-100 text-blue-500 font-semibold py-2 px-4 rounded-full\\\\\">Get Started</button>\\\\n        </div>\\\\n    </header>\\\\n\\\\n    <section class=\\\\\"py-20\\\\\">\\\\n        <div class=\\\\\"container mx-auto text-center\\\\\">\\\\n            <h2 class=\\\\\"text-3xl font-bold mb-8\\\\\">Our Features</h2>\\\\n            <div class=\\\\\"grid grid-cols-1 md:grid-cols-3 gap-8\\\\\">\\\\n                <div class=\\\\\"bg-white p-8 rounded-lg shadow-md\\\\\">\\\\n                    <h3 class=\\\\\"text-xl font-semibold mb-4\\\\\">Feature One</h3>\\\\n                    <p class=\\\\\"text-gray-600\\\\\">Lorem ipsum dolor sit amet, consectetur adipiscing elit.</p>\\\\n                </div>\\\\n                <div class=\\\\\"bg-white p-8 rounded-lg shadow-md\\\\\">\\\\n                    <h3 class=\\\\\"text-xl font-semibold mb-4\\\\\">Feature Two</h3>\\\\n                    <p class=\\\\\"text-gray-600\\\\\">Lorem ipsum dolor sit amet, consectetur adipiscing elit.</p>\\\\n                </div>\\\\n                <div class=\\\\\"bg-white p-8 rounded-lg shadow-md\\\\\">\\\\n                    <h3 class=\\\\\"text-xl font-semibold mb-4\\\\\">Feature Three</h3>\\\\n                    <p class=\\\\\"text-gray-600\\\\\">Lorem ipsum dolor sit amet, consectetur adipiscing elit.</p>\\\\n                </div>\\\\n            </div>\\\\n        </div>\\\\n    </section>\\\\n\\\\n    <footer class=\\\\\"bg-gray-800 py-4\\\\\">\\\\n        <div class=\\\\\"container mx-auto text-center text-gray-400 text-sm\\\\\">&copy; 2025 Your Company. All rights reserved.</div>\\\\n    </footer>\\\\n</body>\\\\n</html>')]"
      ]
     },
     "execution_count": 9,
     "metadata": {},
     "output_type": "execute_result"
    }
   ],
   "source": [
    "# Convert image to html file \n",
    "designed_image_64 = load_base64(designed_image_fn.split(\".\")[0] + \"_resized.png\")\n",
    "\n",
    "# creat a from to covert image to html file\n",
    "prompt_template = ChatPromptTemplate.from_messages([\n",
    "    (\"system\", \"You are a Frontend Developer. You are given a designed image.\"),\n",
    "    (\"human\", [\n",
    "        {\"type\": \"text\", \"text\": \"Convert the designed image to html file with tailwind css.\"},\n",
    "        {\"type\": \"image_url\", \"image_url\": {\n",
    "            \"url\": f\"data:image/png;base64,{designed_image_64}\", \n",
    "            \"name\": \"designed_image.png\"\n",
    "        }}\n",
    "    ]),\n",
    "    (\"human\", [\n",
    "        {\"type\": \"text\", \"text\": \"<note>Add tailwind css to the html file.</note>\"}\n",
    "    ])\n",
    "])\n",
    "\n",
    "\n",
    "# define output format\n",
    "class HtmlContent(Reflection):\n",
    "    html_content: str = Field(description=\"The html content with tailwind css.\")\n",
    "\n",
    "generate_image_parser = PydanticToolsParser(tools=[HtmlContent])\n",
    "\n",
    "generate_image_chain = prompt_template | llm.bind_tools(tools=[HtmlContent], tool_choice=\"HtmlContent\") | generate_image_parser\n",
    "\n",
    "html_content = generate_image_chain.invoke({'designed_image': designed_image_64})\n",
    "html_content\n"
   ]
  },
  {
   "cell_type": "code",
   "execution_count": 10,
   "metadata": {},
   "outputs": [
    {
     "name": "stdout",
     "output_type": "stream",
     "text": [
      "<!DOCTYPE html>\\n<html lang=\\\"en\\\">\\n<head>\\n    <meta charset=\\\"UTF-8\\\">\\n    <meta name=\\\"viewport\\\" content=\\\"width=device-width, initial-scale=1.0\\\">\\n    <title>Welcome to Our Website</title>\\n    <script src=\\\"https://cdn.tailwindcss.com\\\"></script>\\n</head>\\n<body class=\\\"bg-gray-100\\\">\\n    <nav class=\\\"bg-blue-500 p-4\\\">\\n        <div class=\\\"container mx-auto flex justify-between items-center\\\">\\n            <div class=\\\"text-white font-bold text-xl\\\">Brand</div>\\n            <div class=\\\"text-white\\\">\\n                <a href=\\\"#\\\" class=\\\"mr-4\\\">Home</a>\\n                <a href=\\\"#\\\" class=\\\"mr-4\\\">About</a>\\n                <a href=\\\"#\\\" class=\\\"mr-4\\\">Services</a>\\n                <a href=\\\"#\\\">Contact</a>\\n            </div>\\n        </div>\\n    </nav>\\n\\n    <header class=\\\"bg-blue-500 py-20\\\">\\n        <div class=\\\"container mx-auto text-center\\\">\\n            <h1 class=\\\"text-white text-5xl font-bold mb-4\\\">Welcome to Our Website</h1>\\n            <p class=\\\"text-white text-lg mb-8\\\">This is a sample page built with Tailwind CSS.</p>\\n            <button class=\\\"bg-white hover:bg-gray-100 text-blue-500 font-semibold py-2 px-4 rounded-full\\\">Get Started</button>\\n        </div>\\n    </header>\\n\\n    <section class=\\\"py-20\\\">\\n        <div class=\\\"container mx-auto text-center\\\">\\n            <h2 class=\\\"text-3xl font-bold mb-8\\\">Our Features</h2>\\n            <div class=\\\"grid grid-cols-1 md:grid-cols-3 gap-8\\\">\\n                <div class=\\\"bg-white p-8 rounded-lg shadow-md\\\">\\n                    <h3 class=\\\"text-xl font-semibold mb-4\\\">Feature One</h3>\\n                    <p class=\\\"text-gray-600\\\">Lorem ipsum dolor sit amet, consectetur adipiscing elit.</p>\\n                </div>\\n                <div class=\\\"bg-white p-8 rounded-lg shadow-md\\\">\\n                    <h3 class=\\\"text-xl font-semibold mb-4\\\">Feature Two</h3>\\n                    <p class=\\\"text-gray-600\\\">Lorem ipsum dolor sit amet, consectetur adipiscing elit.</p>\\n                </div>\\n                <div class=\\\"bg-white p-8 rounded-lg shadow-md\\\">\\n                    <h3 class=\\\"text-xl font-semibold mb-4\\\">Feature Three</h3>\\n                    <p class=\\\"text-gray-600\\\">Lorem ipsum dolor sit amet, consectetur adipiscing elit.</p>\\n                </div>\\n            </div>\\n        </div>\\n    </section>\\n\\n    <footer class=\\\"bg-gray-800 py-4\\\">\\n        <div class=\\\"container mx-auto text-center text-gray-400 text-sm\\\">&copy; 2025 Your Company. All rights reserved.</div>\\n    </footer>\\n</body>\\n</html>\n"
     ]
    },
    {
     "data": {
      "text/plain": [
       "'<!DOCTYPE html>\\n<html lang=\"en\">\\n<head>\\n    <meta charset=\"UTF-8\">\\n    <meta name=\"viewport\" content=\"width=device-width, initial-scale=1.0\">\\n    <title>Welcome to Our Website</title>\\n    <script src=\"https://cdn.tailwindcss.com\"></script>\\n</head>\\n<body class=\"bg-gray-100\">\\n    <nav class=\"bg-blue-500 p-4\">\\n        <div class=\"container mx-auto flex justify-between items-center\">\\n            <div class=\"text-white font-bold text-xl\">Brand</div>\\n            <div class=\"text-white\">\\n                <a href=\"#\" class=\"mr-4\">Home</a>\\n                <a href=\"#\" class=\"mr-4\">About</a>\\n                <a href=\"#\" class=\"mr-4\">Services</a>\\n                <a href=\"#\">Contact</a>\\n            </div>\\n        </div>\\n    </nav>\\n\\n    <header class=\"bg-blue-500 py-20\">\\n        <div class=\"container mx-auto text-center\">\\n            <h1 class=\"text-white text-5xl font-bold mb-4\">Welcome to Our Website</h1>\\n            <p class=\"text-white text-lg mb-8\">This is a sample page built with Tailwind CSS.</p>\\n            <button class=\"bg-white hover:bg-gray-100 text-blue-500 font-semibold py-2 px-4 rounded-full\">Get Started</button>\\n        </div>\\n    </header>\\n\\n    <section class=\"py-20\">\\n        <div class=\"container mx-auto text-center\">\\n            <h2 class=\"text-3xl font-bold mb-8\">Our Features</h2>\\n            <div class=\"grid grid-cols-1 md:grid-cols-3 gap-8\">\\n                <div class=\"bg-white p-8 rounded-lg shadow-md\">\\n                    <h3 class=\"text-xl font-semibold mb-4\">Feature One</h3>\\n                    <p class=\"text-gray-600\">Lorem ipsum dolor sit amet, consectetur adipiscing elit.</p>\\n                </div>\\n                <div class=\"bg-white p-8 rounded-lg shadow-md\">\\n                    <h3 class=\"text-xl font-semibold mb-4\">Feature Two</h3>\\n                    <p class=\"text-gray-600\">Lorem ipsum dolor sit amet, consectetur adipiscing elit.</p>\\n                </div>\\n                <div class=\"bg-white p-8 rounded-lg shadow-md\">\\n                    <h3 class=\"text-xl font-semibold mb-4\">Feature Three</h3>\\n                    <p class=\"text-gray-600\">Lorem ipsum dolor sit amet, consectetur adipiscing elit.</p>\\n                </div>\\n            </div>\\n        </div>\\n    </section>\\n\\n    <footer class=\"bg-gray-800 py-4\">\\n        <div class=\"container mx-auto text-center text-gray-400 text-sm\">&copy; 2025 Your Company. All rights reserved.</div>\\n    </footer>\\n</body>\\n</html>'"
      ]
     },
     "execution_count": 10,
     "metadata": {},
     "output_type": "execute_result"
    }
   ],
   "source": [
    "import json\n",
    "print(html_content[0].html_content)\n",
    "\n",
    "# # write the html content to a file\n",
    "with open(\"data/auto_gen.html\", \"w\") as f:\n",
    "    html = html_content[0].html_content.encode().decode('unicode-escape')\n",
    "    f.write(html)\n",
    "\n",
    "html\n",
    "\n",
    "# html_content\n"
   ]
  },
  {
   "cell_type": "code",
   "execution_count": 16,
   "metadata": {},
   "outputs": [
    {
     "data": {
      "image/png": "[encoded data removed]",
      "text/plain": [
       "<IPython.core.display.Image object>"
      ]
     },
     "execution_count": 16,
     "metadata": {},
     "output_type": "execute_result"
    }
   ],
   "source": [
    "from typing import Literal\n",
    "from typing import Literal, Any\n",
    "from langgraph.graph import END, StateGraph, START\n",
    "from langgraph.graph.message import add_messages\n",
    "from typing import Annotated\n",
    "from typing_extensions import TypedDict\n",
    "from langchain_core.messages import AIMessage, AnyMessage\n",
    "from langchain_core.pydantic_v1 import BaseModel, Field\n",
    "\n",
    "# define state of the graph\n",
    "class State(TypedDict):\n",
    "    # the full tree\n",
    "    #    {\"type\": \"image_url\", \"image_url\": {\n",
    "    #         \"url\": f\"data:image/png;base64,{html_image}\",\n",
    "    #         \"name\": \"html_image.png\"\n",
    "    #     }}\n",
    "    designed_image: Any = Field(description=\"Base64 encoded designed image.\")\n",
    "    messages: list[AnyMessage] = Field(description=\"The messages of the graph.\", optional=True)\n",
    "    candidate_html_content: list[AIMessage] = Field(description=\"The candidate html content with tailwind css.\", optional=True)\n",
    "\n",
    "\n",
    "# create nodes\n",
    "def generate_html_function(state: State) -> State:\n",
    "    pass\n",
    "\n",
    "def reflection_function(state: State) -> State:\n",
    "    pass\n",
    "\n",
    "def check_score(state: State):\n",
    "    pass\n",
    "\n",
    "graph = StateGraph(State)\n",
    "\n",
    "graph.add_node('generate_html', generate_html_function)\n",
    "graph.add_node('reflection', reflection_function)\n",
    "\n",
    "graph.add_edge(START, 'generate_html')\n",
    "graph.add_edge('generate_html', 'reflection')\n",
    "\n",
    "graph.add_conditional_edges('reflection', check_score, ['generate_html', END])\n",
    "\n",
    "egraph = graph.compile()\n",
    "\n",
    "from IPython.display import Image\n",
    "\n",
    "Image(egraph.get_graph().draw_png())\n",
    "\n"
   ]
  }
 ],
 "metadata": {
  "kernelspec": {
   "display_name": "learn",
   "language": "python",
   "name": "python3"
  },
  "language_info": {
   "codemirror_mode": {
    "name": "ipython",
    "version": 3
   },
   "file_extension": ".py",
   "mimetype": "text/x-python",
   "name": "python",
   "nbconvert_exporter": "python",
   "pygments_lexer": "ipython3",
   "version": "3.10.16"
  }
 },
 "nbformat": 4,
 "nbformat_minor": 2
}
