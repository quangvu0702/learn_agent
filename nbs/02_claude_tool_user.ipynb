{
 "cells": [
  {
   "cell_type": "code",
   "execution_count": 1,
   "metadata": {},
   "outputs": [
    {
     "name": "stdout",
     "output_type": "stream",
     "text": [
      "/home/vule/projects/learn_agent\n"
     ]
    }
   ],
   "source": [
    "cd .."
   ]
  },
  {
   "cell_type": "code",
   "execution_count": 2,
   "metadata": {},
   "outputs": [],
   "source": [
    "# !pip install python-dotenv"
   ]
  },
  {
   "cell_type": "code",
   "execution_count": 4,
   "metadata": {},
   "outputs": [],
   "source": [
    "import anthropic\n",
    "# import src key\n",
    "from src.key import claude_api_key\n",
    "\n",
    "from dotenv import load_dotenv\n",
    "\n",
    "client = anthropic.Anthropic(\n",
    "    # defaults to os.environ.get(\"ANTHROPIC_API_KEY\")\n",
    "    api_key=claude_api_key\n",
    ")\n",
    "\n",
    "model=\"claude-3-sonnet-20240229\"\n",
    "small_model=\"claude-3-haiku-20240307\""
   ]
  },
  {
   "cell_type": "markdown",
   "metadata": {},
   "source": [
    "### A failed attempt"
   ]
  },
  {
   "cell_type": "code",
   "execution_count": 6,
   "metadata": {},
   "outputs": [
    {
     "name": "stdout",
     "output_type": "stream",
     "text": [
      "18,564,825,366,360\n"
     ]
    }
   ],
   "source": [
    "# A relatively simple math problem\n",
    "response = client.messages.create(\n",
    "    model=\"claude-3-haiku-20240307\",\n",
    "    messages=[{\"role\": \"user\", \"content\":\"Multiply 1984135 by 9343116. Only respond with the result\"}],\n",
    "    max_tokens=400\n",
    ")\n",
    "print(response.content[0].text)"
   ]
  },
  {
   "cell_type": "markdown",
   "metadata": {},
   "source": [
    "### Step 1: Tools and prompt"
   ]
  },
  {
   "cell_type": "code",
   "execution_count": 9,
   "metadata": {},
   "outputs": [],
   "source": [
    "# create a function calculater with parameters opt, a and b\n",
    "# opt is a string, either \"add\", \"sub\", \"mul\", \"div\"\n",
    "# a and b are numbers\n",
    "# return the result of the operation\n",
    "\n",
    "def calculator(opt, a, b):\n",
    "    if opt == \"add\":\n",
    "        return a + b\n",
    "    elif opt == \"sub\":\n",
    "        return a - b\n",
    "    elif opt == \"mul\":\n",
    "        return a * b\n",
    "    elif opt == \"div\":\n",
    "        return a / b\n",
    "    else:\n",
    "        return \"Invalid operation\"\n",
    "    \n",
    "# give a test cases\n",
    "# print(calculator(\"add\", 1, 2))\n",
    "# print(calculator(\"sub\", 1, 2))\n",
    "# print(calculator(\"mul\", 1, 2))\n",
    "# print(calculator(\"div\", 1, 2))\n",
    "# print(calculator(\"invalid\", 1, 2))\n",
    "\n",
    "# measure tool usage\n",
    "# name, description, input_schema\n",
    "\n",
    "calculator_tool = {\n",
    "    \"name\": \"calculator\",\n",
    "    \"description\": \"A calculator that can perform basic arithmetic operations\",\n",
    "    \"input_schema\": {\n",
    "        \"type\": \"object\",\n",
    "        \"properties\": {\n",
    "            \"opt\": {\n",
    "                \"type\": \"string\",\n",
    "                \"enum\": [\"add\", \"sub\", \"mul\", \"div\"],\n",
    "                \"description\": \"The operation to perform\"\n",
    "            },\n",
    "            \"a\": {\n",
    "                \"type\": \"number\",\n",
    "                \"description\": \"The first number to operate on\"\n",
    "            },\n",
    "            \"b\": {\n",
    "                \"type\": \"number\",\n",
    "                \"description\": \"The second number to operate on\"\n",
    "            }\n",
    "        },\n",
    "        \"required\": [\"opt\", \"a\", \"b\"],\n",
    "    },\n",
    "}"
   ]
  },
  {
   "cell_type": "code",
   "execution_count": 11,
   "metadata": {},
   "outputs": [
    {
     "data": {
      "text/plain": [
       "Message(id='msg_01XqDNxEyjFfe3Bkjr5CrLKF', content=[ToolUseBlock(id='toolu_019ryxciBRx53fgyy41DguNu', input={'a': 1984135, 'b': 9343116, 'opt': 'mul'}, name='calculator', type='tool_use')], model='claude-3-haiku-20240307', role='assistant', stop_reason='tool_use', stop_sequence=None, type='message', usage=Usage(cache_creation_input_tokens=0, cache_read_input_tokens=0, input_tokens=415, output_tokens=89))"
      ]
     },
     "execution_count": 11,
     "metadata": {},
     "output_type": "execute_result"
    }
   ],
   "source": [
    "# step 2: Claude uses the tool\n",
    "response = client.messages.create(\n",
    "    model=\"claude-3-haiku-20240307\",\n",
    "    messages=[{\"role\": \"user\", \"content\": \"Multiply 1984135 by 9343116. Only respond with the result\"}],\n",
    "    max_tokens=300,\n",
    "    # Tell Claude about our tool\n",
    "    tools=[calculator_tool]\n",
    ")\n",
    "response"
   ]
  },
  {
   "cell_type": "code",
   "execution_count": 16,
   "metadata": {},
   "outputs": [
    {
     "name": "stdout",
     "output_type": "stream",
     "text": [
      "The Tool Name Claude Wants To Call: calculator\n",
      "The Inputs Claude Wants To Call It With: {'a': 1984135, 'b': 9343116, 'opt': 'mul'}\n"
     ]
    }
   ],
   "source": [
    "# step 3: Claude uses the output to answer the user\n",
    "tool_name = response.content[0].name\n",
    "tool_inputs = response.content[0].input\n",
    "tool_outputs = calculator(**tool_inputs)\n",
    "\n",
    "print(\"The Tool Name Claude Wants To Call:\", tool_name)\n",
    "print(\"The Inputs Claude Wants To Call It With:\", tool_inputs)"
   ]
  },
  {
   "cell_type": "code",
   "execution_count": 17,
   "metadata": {},
   "outputs": [
    {
     "data": {
      "text/plain": [
       "Message(id='msg_014tHq6brcMmihZYYXuxyx85', content=[ToolUseBlock(id='toolu_019fimhboAYQj8Q3d9rhPvPm', input={'a': 0, 'b': 0, 'opt': 'add'}, name='calculator', type='tool_use')], model='claude-3-haiku-20240307', role='assistant', stop_reason='tool_use', stop_sequence=None, type='message', usage=Usage(cache_creation_input_tokens=0, cache_read_input_tokens=0, input_tokens=404, output_tokens=85))"
      ]
     },
     "execution_count": 17,
     "metadata": {},
     "output_type": "execute_result"
    }
   ],
   "source": [
    "response = client.messages.create(\n",
    "    model=\"claude-3-haiku-20240307\",\n",
    "    messages=[{\"role\": \"user\", \"content\":\"What color are emeralds?\"}],\n",
    "    max_tokens=400,\n",
    "    tools=[calculator_tool]\n",
    ")\n",
    "response    "
   ]
  },
  {
   "cell_type": "code",
   "execution_count": 19,
   "metadata": {},
   "outputs": [
    {
     "name": "stdout",
     "output_type": "stream",
     "text": [
      "Message(id='msg_01PvK3vbAS4fmR8NJ8QtJDGK', content=[TextBlock(text='Emeralds are green in color. Emeralds are a variety of the mineral beryl that get their green color from traces of chromium and sometimes vanadium.', type='text')], model='claude-3-haiku-20240307', role='assistant', stop_reason='end_turn', stop_sequence=None, type='message', usage=Usage(cache_creation_input_tokens=0, cache_read_input_tokens=0, input_tokens=440, output_tokens=40))\n",
      "end_turn\n"
     ]
    }
   ],
   "source": [
    "# add system prompt\n",
    "response = client.messages.create(\n",
    "    model=\"claude-3-haiku-20240307\",\n",
    "    messages=[{\"role\": \"user\", \"content\":\"What color are emeralds?\"}],\n",
    "    max_tokens=400,\n",
    "    tools=[calculator_tool],\n",
    "    system=\"You are a helpful assistant that can perform basic arithmetic operations. You have access to tools, but only use them when necessary. If a tool is not required, respond as normal\"\n",
    ")\n",
    "print(response)\n",
    "print(response.stop_reason)\n",
    "\n"
   ]
  },
  {
   "cell_type": "markdown",
   "metadata": {},
   "source": [
    "### Putting it all together"
   ]
  },
  {
   "cell_type": "code",
   "execution_count": 35,
   "metadata": {},
   "outputs": [
    {
     "name": "stdout",
     "output_type": "stream",
     "text": [
      "Message(id='msg_01BcPW8ti7AnG7QNzCUkUGaE', content=[TextBlock(text=\"I'll help you calculate that using the calculator.\", type='text'), ToolUseBlock(id='toolu_01SgdjTBbSrn6G3CeQboUQog', input={'opt': 'mul', 'a': 3, 'b': 2}, name='calculator', type='tool_use')], model='claude-3-5-haiku-20241022', role='assistant', stop_reason='tool_use', stop_sequence=None, type='message', usage=Usage(cache_creation_input_tokens=0, cache_read_input_tokens=0, input_tokens=430, output_tokens=96))\n",
      "tool_use\n",
      "The Tool Name Claude Wants To Call: calculator\n",
      "The Inputs Claude Wants To Call It With: {'opt': 'mul', 'a': 3, 'b': 2}\n",
      "The Output Of The Tool: 6\n"
     ]
    }
   ],
   "source": [
    "# Step 1: Tools and prompt\n",
    "def calculator(opt, a, b):\n",
    "    if opt == \"add\":\n",
    "        return a + b\n",
    "    elif opt == \"sub\":\n",
    "        return a - b\n",
    "    elif opt == \"mul\":\n",
    "        return a * b\n",
    "    elif opt == \"div\":\n",
    "        return a / b\n",
    "    else:\n",
    "        return \"Invalid operation\"\n",
    "\n",
    "calculator_tool = {\n",
    "    \"name\": \"calculator\",\n",
    "    \"description\": \"A calculator that can perform basic arithmetic operations\",\n",
    "    \"input_schema\": {\n",
    "        \"type\": \"object\",\n",
    "        \"properties\": {\n",
    "            \"opt\": {\n",
    "                \"type\": \"string\",\n",
    "                \"enum\": [\"add\", \"sub\", \"mul\", \"div\"],\n",
    "                \"description\": \"The operation to perform\"\n",
    "            },\n",
    "            \"a\": {\n",
    "                \"type\": \"number\",\n",
    "                \"description\": \"The first number to operate on\"\n",
    "            },\n",
    "            \"b\": {\n",
    "                \"type\": \"number\",\n",
    "                \"description\": \"The second number to operate on\"\n",
    "            }\n",
    "        },\n",
    "        \"required\": [\"opt\", \"a\", \"b\"],\n",
    "    },\n",
    "}\n",
    "def prompt_claude(user_message, tools):\n",
    "    system_prompt = \"\"\"\n",
    "    You have access to tools, but only use them when necessary. If a tool is not required, respond as normal\n",
    "    \"\"\"\n",
    "    # Step 2: Claude uses the tool\n",
    "    response = client.messages.create(\n",
    "        model=\"claude-3-5-haiku-20241022\",\n",
    "        messages=[{\"role\": \"user\", \"content\": user_message}],\n",
    "        max_tokens=400,\n",
    "        tools=tools,\n",
    "        system=system_prompt\n",
    "    )\n",
    "    print(response)\n",
    "    print(response.stop_reason)\n",
    "    # Step 3: Claude uses the output to answer the user\n",
    "    if response.stop_reason == \"tool_use\":\n",
    "        tool_name = response.content[-1].name\n",
    "        tool_inputs = response.content[-1].input\n",
    "        try:\n",
    "            if tool_name == \"calculator\":\n",
    "                tool_outputs = calculator(**tool_inputs)\n",
    "                print(\"The Tool Name Claude Wants To Call:\", tool_name)\n",
    "                print(\"The Inputs Claude Wants To Call It With:\", tool_inputs)\n",
    "                print(\"The Output Of The Tool:\", tool_outputs)\n",
    "        except Exception as e:\n",
    "            print(\"An error occurred while calling the tool:\", e)\n",
    "            print(\"The Tool Name Claude Wants To Call:\", tool_name)\n",
    "            print(\"The Inputs Claude Wants To Call It With:\", tool_inputs)\n",
    "            print(\"The Output Of The Tool:\", tool_outputs)\n",
    "    elif response.stop_reason == \"end_turn\":\n",
    "        print(\"No tool was used\")\n",
    "        print(\"The Response:\", response)\n",
    "\n",
    "\n",
    "prompt_claude(\"What is 3 times 2?\", [calculator_tool])"
   ]
  },
  {
   "cell_type": "code",
   "execution_count": 34,
   "metadata": {},
   "outputs": [],
   "source": [
    "# print all model names\n",
    "# for model in client.models.list():\n",
    "#     print(model.id)"
   ]
  },
  {
   "cell_type": "code",
   "execution_count": 38,
   "metadata": {},
   "outputs": [
    {
     "name": "stdout",
     "output_type": "stream",
     "text": [
      "Message(id='msg_01CVdhfAKwpxLn3TnabXLQes', content=[TextBlock(text=\"I'll help you determine the sentiment score for the text 'I love programming' using the print_sentiment_scores function.\", type='text'), ToolUseBlock(id='toolu_017Wm9Git2yFc5q58W3sWCwj', input={'positive_score': 0.875, 'negative_score': 0.125, 'neutral_score': 0.0}, name='print_sentiment_scores', type='tool_use')], model='claude-3-5-haiku-20241022', role='assistant', stop_reason='tool_use', stop_sequence=None, type='message', usage=Usage(cache_creation_input_tokens=0, cache_read_input_tokens=0, input_tokens=449, output_tokens=128))\n",
      "tool_use\n",
      "ToolUseBlock(id='toolu_017Wm9Git2yFc5q58W3sWCwj', input={'positive_score': 0.875, 'negative_score': 0.125, 'neutral_score': 0.0}, name='print_sentiment_scores', type='tool_use')\n"
     ]
    }
   ],
   "source": [
    "# strick model to return expected output format by using tools input\n",
    "print_tool = {\n",
    "    \"name\": \"print_sentiment_scores\",\n",
    "    \"description\": \"Prints the sentiment scores of a given text.\",\n",
    "    \"input_schema\": {\n",
    "        \"type\": \"object\",\n",
    "        \"properties\": {\n",
    "            \"positive_score\": {\"type\": \"number\", \"description\": \"The positive sentiment score, ranging from 0.0 to 1.0.\"},\n",
    "            \"negative_score\": {\"type\": \"number\", \"description\": \"The negative sentiment score, ranging from 0.0 to 1.0.\"},\n",
    "            \"neutral_score\": {\"type\": \"number\", \"description\": \"The neutral sentiment score, ranging from 0.0 to 1.0.\"}\n",
    "        },\n",
    "        \"required\": [\"positive_score\", \"negative_score\", \"neutral_score\"]\n",
    "    }\n",
    "}\n",
    "tools = [print_tool]\n",
    "prompt = \"What is the sentiment score of the text 'I love programming'?\"\n",
    "response = client.messages.create(\n",
    "        model=\"claude-3-5-haiku-20241022\",\n",
    "        messages=[{\"role\": \"user\", \"content\": prompt}],\n",
    "        max_tokens=400,\n",
    "        tools=tools\n",
    "    )\n",
    "print(response)\n",
    "print(response.stop_reason)\n",
    "print(response.content[-1].input)"
   ]
  },
  {
   "cell_type": "code",
   "execution_count": 40,
   "metadata": {},
   "outputs": [
    {
     "name": "stdout",
     "output_type": "stream",
     "text": [
      "Message(id='msg_01TppJyws1Bu73WJt4MZMrD9', content=[TextBlock(text=\"I'll analyze the sentiment of this text using the print_sentiment_scores tool:\", type='text'), ToolUseBlock(id='toolu_01Uv9pHMdxrQ1MHHHnZsioVN', input={'positive_score': 0.0, 'negative_score': 0.9, 'neutral_score': 0.1}, name='print_sentiment_scores', type='tool_use')], model='claude-3-5-haiku-20241022', role='assistant', stop_reason='tool_use', stop_sequence=None, type='message', usage=Usage(cache_creation_input_tokens=0, cache_read_input_tokens=0, input_tokens=476, output_tokens=119))\n",
      "tool_use\n",
      "{'positive_score': 0.0, 'negative_score': 0.9, 'neutral_score': 0.1}\n"
     ]
    }
   ],
   "source": [
    "tweet = \"I'm a HUGE hater of pickles.  I actually despise pickles.  They are garbage.\"\n",
    "system_prompt = \"Allways user print_tool\"\n",
    "query = f\"\"\"\n",
    "<text>\n",
    "{tweet}\n",
    "</text>\n",
    "\"\"\"\n",
    "response = client.messages.create(\n",
    "        model=\"claude-3-5-haiku-20241022\",\n",
    "        messages=[{\"role\": \"user\", \"content\": query}],\n",
    "        max_tokens=400,\n",
    "        tools=tools,\n",
    "        system=system_prompt\n",
    "    )\n",
    "print(response)\n",
    "print(response.stop_reason)\n",
    "print(response.content[-1].input)"
   ]
  },
  {
   "cell_type": "code",
   "execution_count": 44,
   "metadata": {},
   "outputs": [
    {
     "name": "stdout",
     "output_type": "stream",
     "text": [
      "Message(id='msg_019wsoyUaNZoG3CuFgbcnYmT', content=[ToolUseBlock(id='toolu_01JvBUSbpwyrkMMQzNowMtnF', input={'positive_score': 0.0, 'negative_score': 1.0, 'neutral_score': 0.0}, name='print_sentiment_scores', type='tool_use')], model='claude-3-5-haiku-20241022', role='assistant', stop_reason='tool_use', stop_sequence=None, type='message', usage=Usage(cache_creation_input_tokens=0, cache_read_input_tokens=0, input_tokens=548, output_tokens=79))\n",
      "tool_use\n",
      "{'positive_score': 0.0, 'negative_score': 1.0, 'neutral_score': 0.0}\n"
     ]
    }
   ],
   "source": [
    "# force the model to use the tool\n",
    "tweet = \"What the fuck is this?\"\n",
    "query = f\"\"\"\n",
    "<text>\n",
    "{tweet}\n",
    "</text>\n",
    "\"\"\"\n",
    "\n",
    "response = client.messages.create(\n",
    "        model=\"claude-3-5-haiku-20241022\",\n",
    "        messages=[{\"role\": \"user\", \"content\": query}],\n",
    "        max_tokens=400,\n",
    "        tools=tools,\n",
    "        tool_choice={\"type\": \"tool\", \"name\": \"print_sentiment_scores\"}\n",
    "    )\n",
    "print(response)\n",
    "print(response.stop_reason)\n",
    "print(response.content[-1].input)"
   ]
  },
  {
   "cell_type": "code",
   "execution_count": 45,
   "metadata": {},
   "outputs": [
    {
     "data": {
      "text/plain": [
       "[ToolUseBlock(id='toolu_01JvBUSbpwyrkMMQzNowMtnF', input={'positive_score': 0.0, 'negative_score': 1.0, 'neutral_score': 0.0}, name='print_sentiment_scores', type='tool_use')]"
      ]
     },
     "execution_count": 45,
     "metadata": {},
     "output_type": "execute_result"
    }
   ],
   "source": [
    "response.content"
   ]
  },
  {
   "cell_type": "code",
   "execution_count": null,
   "metadata": {},
   "outputs": [],
   "source": [
    "https://github.com/anthropics/courses/blob/master/tool_use/03_structured_outputs.ipynb"
   ]
  }
 ],
 "metadata": {
  "kernelspec": {
   "display_name": "learn",
   "language": "python",
   "name": "python3"
  },
  "language_info": {
   "codemirror_mode": {
    "name": "ipython",
    "version": 3
   },
   "file_extension": ".py",
   "mimetype": "text/x-python",
   "name": "python",
   "nbconvert_exporter": "python",
   "pygments_lexer": "ipython3",
   "version": "3.10.16"
  }
 },
 "nbformat": 4,
 "nbformat_minor": 2
}
