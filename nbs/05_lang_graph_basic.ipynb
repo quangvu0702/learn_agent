{
 "cells": [
  {
   "cell_type": "markdown",
   "metadata": {},
   "source": [
    "### Prompt Template\n",
    "  1. Prompt Template.\n",
    "  2. Few shots prompt template\n",
    "  3. Chat prompt template\n",
    "\n",
    "### Message\n",
    "  1. "
   ]
  },
  {
   "cell_type": "code",
   "execution_count": 1,
   "metadata": {},
   "outputs": [
    {
     "name": "stdout",
     "output_type": "stream",
     "text": [
      "What is a good name for a company that makes colorful socks?\n",
      "You are a English teacher. Please correct the following paragraph: I love to eat pizza.\n",
      "You are a English teacher. Please correct the following paragraph: I love to eat pizza.. Please provide a detailed explanation.\n"
     ]
    }
   ],
   "source": [
    "# prompt template\n",
    "from langchain.prompts import PromptTemplate\n",
    "\n",
    "# give example 1\n",
    "prompt_template = PromptTemplate(\n",
    "    input_variables=[\"product\"],\n",
    "    template=\"What is a good name for a company that makes {product}?\",\n",
    ")\n",
    "\n",
    "# use example 1\n",
    "print(prompt_template.format(product=\"colorful socks\"))\n",
    "\n",
    "# give example 2\n",
    "prompt_template = PromptTemplate(\n",
    "    input_variables=[\"paragraph\"],\n",
    "    template=\"You are a English teacher. Please correct the following paragraph: {paragraph}\",\n",
    ")\n",
    "\n",
    "# use example 2\n",
    "paragraph = \"I love to eat pizza.\"\n",
    "print(prompt_template.format(paragraph=paragraph))\n",
    "\n",
    "# give example 3 with optional input variables\n",
    "prompt_template = PromptTemplate(\n",
    "    input_variables=[\"paragraph\"],\n",
    "    optional_input_variables=[\"tone\"],\n",
    "    template=\"You are a English teacher. Please correct the following paragraph: {paragraph}. {tone}\"\n",
    ")\n",
    "\n",
    "paragraph = \"I love to eat pizza.\"\n",
    "tone = \"Please provide a detailed explanation.\"\n",
    "print(prompt_template.format(paragraph=paragraph, tone=tone))"
   ]
  },
  {
   "cell_type": "code",
   "execution_count": 2,
   "metadata": {},
   "outputs": [
    {
     "name": "stdout",
     "output_type": "stream",
     "text": [
      "Answer the following questions: \n",
      "Examples:\n",
      "Question: What is the tallest mountain in the world?\n",
      "Mount Everest\n",
      "Question: What is the largest ocean on Earth?\n",
      "Pacific Ocean\n",
      "Question: In which year did the first airplane fly?\n",
      "1903\n",
      "Question: What is the name of the famous clock tower in London?\n"
     ]
    }
   ],
   "source": [
    "from langchain.prompts.few_shot import FewShotPromptTemplate\n",
    "from langchain.prompts.prompt import PromptTemplate\n",
    "\n",
    "examples = [\n",
    "    {\n",
    "        \"question\": \"What is the tallest mountain in the world?\",\n",
    "        \"answer\": \"Mount Everest\",\n",
    "    },\n",
    "    {\"question\": \"What is the largest ocean on Earth?\", \"answer\": \"Pacific Ocean\"},\n",
    "    {\"question\": \"In which year did the first airplane fly?\", \"answer\": \"1903\"},\n",
    "]\n",
    "\n",
    "example_prompt = PromptTemplate(\n",
    "    input_variables=[\"question\", \"answer\"],\n",
    "    template=\"Question: {question}\\n{answer}\",\n",
    ")\n",
    "prompt_template = FewShotPromptTemplate(\n",
    "    examples=examples,\n",
    "    example_prompt=example_prompt,\n",
    "    suffix=\"Question: {input}\",\n",
    "    prefix=\"Answer the following questions: \\nExamples:\",\n",
    "    example_separator=\"\\n\",\n",
    "    input_variables=[\"input\"],\n",
    ")\n",
    "\n",
    "print(\n",
    "    prompt_template.format(\n",
    "        input=\"What is the name of the famous clock tower in London?\"\n",
    "    )\n",
    ")"
   ]
  },
  {
   "cell_type": "code",
   "execution_count": 3,
   "metadata": {},
   "outputs": [
    {
     "data": {
      "text/plain": [
       "[SystemMessage(content='You are a knowledgeable AI assistant. You are called Alice.', additional_kwargs={}, response_metadata={}),\n",
       " HumanMessage(content=\"Hi, what's the weather like today?\", additional_kwargs={}, response_metadata={}),\n",
       " AIMessage(content=\"It's sunny and warm outside.\", additional_kwargs={}, response_metadata={}),\n",
       " HumanMessage(content='Can you tell me a joke?', additional_kwargs={}, response_metadata={})]"
      ]
     },
     "execution_count": 3,
     "metadata": {},
     "output_type": "execute_result"
    }
   ],
   "source": [
    "from langchain_core.prompts import ChatPromptTemplate\n",
    "\n",
    "# Define roles and placeholders\n",
    "chat_template = ChatPromptTemplate.from_messages(\n",
    "  [\n",
    "    (\"system\", \"You are a knowledgeable AI assistant. You are called {name}.\"),\n",
    "    (\"user\", \"Hi, what's the weather like today?\"),\n",
    "    (\"ai\", \"It's sunny and warm outside.\"),\n",
    "    (\"user\", \"{user_input}\"),\n",
    "   ]\n",
    ")\n",
    "\n",
    "messages = chat_template.format_messages(name=\"Alice\", user_input=\"Can you tell me a joke?\")\n",
    "messages"
   ]
  },
  {
   "cell_type": "code",
   "execution_count": 18,
   "metadata": {},
   "outputs": [
    {
     "data": {
      "text/plain": [
       "[SystemMessage(content='You are a customer service chatbot. You name is Raj.', additional_kwargs={}, response_metadata={}),\n",
       " HumanMessage(content='Can you summarize the ticket in 100 words?', additional_kwargs={}, response_metadata={})]"
      ]
     },
     "execution_count": 18,
     "metadata": {},
     "output_type": "execute_result"
    }
   ],
   "source": [
    "from langchain_core.prompts import(\n",
    "    ChatPromptTemplate,\n",
    "    SystemMessagePromptTemplate,\n",
    "    HumanMessagePromptTemplate,\n",
    "    MessagesPlaceholder\n",
    ")\n",
    "\n",
    "from langchain_core.messages import AIMessage, HumanMessage\n",
    "\n",
    "message_template4 = ChatPromptTemplate.from_messages([\n",
    "    SystemMessagePromptTemplate.from_template(\"You are a customer service chatbot. You name is Raj.\"),\n",
    "    MessagesPlaceholder(variable_name=\"status\"),\n",
    "    HumanMessagePromptTemplate.from_template(\"Can you summarize the ticket in {word_count} words?\"),\n",
    "\n",
    "\n",
    "])\n",
    "\n",
    "message2 = [\n",
    "    HumanMessage(content=\"Hi, What's happening to the ticket I raised?\"),\n",
    "    AIMessage(content=\"Hi, your ticket was opened with the status OPEN. It was worked on by our customer service agent Raj\"),\n",
    "    HumanMessage(content=\"What is the new status of my ticket?\"),\n",
    "    AIMessage(content=\"It is currently WIP\")\n",
    "]\n",
    "message_template4.format_prompt(\n",
    "    status=[],\n",
    "    word_count=\"100\"\n",
    ").to_messages()"
   ]
  }
 ],
 "metadata": {
  "kernelspec": {
   "display_name": "learn",
   "language": "python",
   "name": "python3"
  },
  "language_info": {
   "codemirror_mode": {
    "name": "ipython",
    "version": 3
   },
   "file_extension": ".py",
   "mimetype": "text/x-python",
   "name": "python",
   "nbconvert_exporter": "python",
   "pygments_lexer": "ipython3",
   "version": "3.10.16"
  }
 },
 "nbformat": 4,
 "nbformat_minor": 2
}
