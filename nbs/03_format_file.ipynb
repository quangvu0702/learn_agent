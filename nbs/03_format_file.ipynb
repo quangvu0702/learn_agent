{
 "cells": [
  {
   "cell_type": "markdown",
   "metadata": {},
   "source": [
    "### Format intput and output"
   ]
  },
  {
   "cell_type": "code",
   "execution_count": null,
   "metadata": {},
   "outputs": [],
   "source": [
    "# convert a dict to json text\n",
    "import json\n",
    "\n",
    "dict_data = {\"name\": \"John\",\n",
    "             \"age\": 60,\n",
    "             \"id\": 1,\n",
    "             \"city\": \"New York\",\n",
    "             \"children\": [{\"name\": \"Alice\", \"age\": 35, \n",
    "                           \"id\": 2,\n",
    "                               \"children\": [{\"name\": \"John\", \"age\": 5,\n",
    "                                            \"id\": 5},\n",
    "                                            {\"name\": \"Jackal\", \"age\": 3,\n",
    "                                            \"id\": 6},\n",
    "                                            {\"name\": \"Jill\", \"age\": 1,\n",
    "                                            \"id\": 7}]\n",
    "                        },\n",
    "                          {\"name\": \"Bob\", \"age\": 30, 'id': 3},\n",
    "                          {\"name\": \"Charlie\", \"age\": 23, 'id': 4}\n",
    "                        ]\n",
    "                          }\n",
    "\n",
    "\n",
    "def convert_json_to_html(data, is_children=False):\n",
    "    # to keep the write format, we replace children with placeholder, then replace it with children_html\n",
    "    childrent_html = \"\"\n",
    "    if \"children\" in data and type(data['children']) == list:\n",
    "        childrent_html = ' \\n'.join(data[\"children\"])\n",
    "        data[\"children\"] = [\"replace_html_children\"]\n",
    "    if is_children:\n",
    "        html_text = f\"<html child>\\n{json.dumps(data, indent=2)}\\n</html child>\"\n",
    "    else:\n",
    "        html_text = json.dumps(data, indent=2)\n",
    "    html_text = html_text.replace(\"replace_html_children\", childrent_html)\n",
    "    return html_text\n",
    "\n",
    "def convert_json_to_html_recursive(data, is_children=False):\n",
    "    # print id\n",
    "    # print(data[\"id\"])\n",
    "    if \"children\" in data and type(data['children']) == list:\n",
    "        data[\"children\"] = [convert_json_to_html_recursive(child, True) for child in data[\"children\"]]    \n",
    "    return convert_json_to_html(data, is_children)\n",
    "\n",
    "# Use the recursive function\n",
    "query = f\"\"\"\n",
    "<figma json>\n",
    "{convert_json_to_html_recursive(dict_data)}\n",
    "</figma json>\n",
    "\"\"\"\n",
    "\n",
    "query = query.replace('\"<html child>', '<html child>').replace('</html child>\"', '</html child>')\n",
    "print(query)\n"
   ]
  }
 ],
 "metadata": {
  "kernelspec": {
   "display_name": "learn",
   "language": "python",
   "name": "python3"
  },
  "language_info": {
   "codemirror_mode": {
    "name": "ipython",
    "version": 3
   },
   "file_extension": ".py",
   "mimetype": "text/x-python",
   "name": "python",
   "nbconvert_exporter": "python",
   "pygments_lexer": "ipython3",
   "version": "3.10.16"
  }
 },
 "nbformat": 4,
 "nbformat_minor": 2
}
