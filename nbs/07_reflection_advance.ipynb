{
 "cells": [
  {
   "cell_type": "code",
   "execution_count": 1,
   "metadata": {},
   "outputs": [
    {
     "name": "stdout",
     "output_type": "stream",
     "text": [
      "/home/vule/projects/learn_agent\n"
     ]
    }
   ],
   "source": [
    "cd .."
   ]
  },
  {
   "cell_type": "markdown",
   "metadata": {},
   "source": [
    "<img src=\"/home/vule/projects/learn_agent/images/basic_reflection_with_tool.png\" width=\"700\"/>"
   ]
  },
  {
   "cell_type": "code",
   "execution_count": 15,
   "metadata": {},
   "outputs": [],
   "source": [
    "from langchain_core.messages import AIMessage, BaseMessage, HumanMessage, SystemMessage, AnyMessage\n",
    "from langchain_core.prompts import ChatPromptTemplate, MessagesPlaceholder\n",
    "from langchain_openai import ChatOpenAI\n",
    "from langchain_community.tools.tavily_search import TavilySearchResults\n",
    "from langchain_community.utilities.tavily_search import TavilySearchAPIWrapper\n",
    "from src.key import openai_api_key, tavily_api_key\n",
    "from typing import Annotated, TypedDict\n",
    "import operator\n",
    "from langgraph.graph import StateGraph, END\n",
    "from langgraph.checkpoint.memory import MemorySaver\n",
    "\n",
    "\n",
    "llm = ChatOpenAI(model=\"gpt-4o-mini\", api_key=openai_api_key)\n",
    "\n",
    "tavily_tool = TavilySearchResults(max_results=3)"
   ]
  },
  {
   "cell_type": "code",
   "execution_count": 16,
   "metadata": {},
   "outputs": [],
   "source": [
    "# try tavily_tool\n",
    "\n",
    "search_result = tavily_tool.invoke(\"importance of reflection in artificial intelligence\")\n"
   ]
  },
  {
   "cell_type": "code",
   "execution_count": 23,
   "metadata": {},
   "outputs": [
    {
     "data": {
      "text/plain": [
       "[[{'url': 'https://www.semanticscholar.org/paper/Reflective-Artificial-Intelligence-Lewis-Sarkadi/3d222012bd85ca7a33e726e107ba55c910ead827',\n",
       "   'content': \"This paper asks what reflective AI might look like, drawing on notions of reflection in complex systems, cognitive science, and agents, and sketches an architecture for reflective AI agents, and highlights ways forward. As artificial intelligence (AI) technology advances, we increasingly delegate mental tasks to machines. However, today's AI systems usually do these tasks with an unusual\"},\n",
       "  {'url': 'https://deepai.org/publication/reflective-artificial-intelligence',\n",
       "   'content': \"Peter R. Lewis\\nStefan Sarkadi\\npage 1\\npage 2\\npage 3\\npage 4\\nRelated Research\\nMaking AI 'Smart': Bridging AI and Cognitive Science\\nDigital Normativity: A challenge for human subjectivization and free\\nwill\\nBuilding Human-like Communicative Intelligence: A Grounded Perspective\\nExperience, Imitation and Reflection; Confucius' Conjecture and Machine\\nLearning\\nMoral Dilemmas for Artificial Intelligence: a position paper on an\\napplication of Compositional Quantum Cognition\\nCogniculture: Towards a Better Human-Machine Co-evolution\\nConscious AI\\nLogin\\nPlease sign up or login with your details\\nPricing\\nGeneration Overview\\nAI Generator calls\\nAI Chat messages\\nGenius Mode messages\\nGenius Mode images\\nAD-free experience\\nPrivate images\\nAPI access\\nPer month\\n500\\n1750\\n60\\n60\\nOut of credits\\nRefill your membership to continue using DeepAI\\nSHARE\\nDeepAI Reflective Artificial Intelligence\\nArtificial Intelligence (AI) is about making computers that do the sorts of\\nthings that minds can do, and as we progress towards this goal, we tend to\\nincreasingly delegate human tasks to machines. However, AI systems usually do\\nthese tasks with an unusual imbalance of insight and understanding: new, deeper\\ninsights are present, yet many important qualities that a human mind would have\\npreviously brought to the activity are utterly absent. Then, drawing on\\nnotions of reflection in complex systems, cognitive science, and agents, we\\nsketch an architecture for reflective AI agents, and highlight ways forward.\\n\"},\n",
       "  {'url': 'https://arxiv.org/abs/2301.10823',\n",
       "   'content': 'arXiv:2301.10823 Help | Advanced Search arXiv author ID Artificial Intelligence (AI) is about making computers that do the sorts of things that minds can do, and as we progress towards this goal, we tend to increasingly delegate human tasks to machines. However, AI systems usually do these tasks with an unusual imbalance of insight and understanding: new, deeper insights are present, yet many important qualities that a human mind would have previously brought to the activity are utterly absent. In this paper we ask what reflective AI might look like. Subjects:   Artificial Intelligence (cs.AI) Cite as:    arXiv:2301.10823 [cs.AI] (or arXiv:2301.10823v3 [cs.AI] for this version) https://doi.org/10.48550/arXiv.2301.10823 From: Stefan Sarkadi [view email] cs.AI Bibliographic and Citation Tools Connected Papers Toggle scite.ai Toggle'}],\n",
       " [{'url': 'https://relevanceai.com/prompt-engineering/teach-your-ai-to-reflect-for-better-responses',\n",
       "   'content': 'Reflexion prompting is a technique that allows AI models to review and improve their own responses before delivering them, similar to how humans pause to reflect on their thoughts before speaking. For instance, in customer service scenarios, AI systems using Reflexion Prompting have shown marked improvements in response accuracy and user satisfaction. Reflexion prompting is a powerful technique that enables AI systems to review and improve their own responses before delivering them, leading to more accurate and thoughtful outputs. For example, when asking an AI for help with a complex task, you can include a simple prompt like \"Before providing your final answer, please review your response and identify any potential improvements or missing information.\" This extra step of self-evaluation helps ensure you receive more comprehensive and reliable assistance, much like asking a friend to double-check their work before sharing it.'},\n",
       "  {'url': 'https://gretel.ai/blog/teaching-ai-to-think-a-new-approach-with-synthetic-data-and-reflection',\n",
       "   'content': 'Reflection is a technique that makes the AI simulate step-by-step reasoning as part of its internal process. The dataset was created to support the task of question answering on basic mathematical problems that require multi-step reasoning.â\\x80\\x9d This has become a core AI dataset for both training and evaluating LLM performance around AI reasoning, and a great starting point for synthesizing new examples to show how Reflection works and to improve on AI reasoning. This example shows how the Reflection technique guides the AI through step-by-step reasoning before arriving at the final answer. With the Reflection technique and this synthetic dataset, we aim to take AI reasoning to the next level.'},\n",
       "  {'url': 'https://www.kent.edu/ctl/ai-use-reflection-prompts-students',\n",
       "   'content': 'AI-Use Reflection Prompt Examples for Students Post-Assignment Reflection Prompt Examples • Short & Sweet: Add a note indicating which AI tool you used and how you used it, including the prompt(s) you used and the date(s) • Learning Focused: 1) In what ways did AI help you achieve your learning goals for this'}],\n",
       " [{'url': 'https://link.springer.com/article/10.1007/s11023-024-09664-2',\n",
       "   'content': \"4 The Role of Reflection in Driving Human Behaviour. ... Considering these common machine learning architectures, it is clear that there is a lack of any reflective 'loop'. Although these achieve different outcomes, they are qualitatively equivalent in the sense that they both operate at a single level of abstraction when it comes to\"},\n",
       "  {'url': 'https://www.ool.co.uk/blog/the-role-of-reflection-in-learning/',\n",
       "   'content': 'Reflection is a powerful tool that can be used in any learning process. It involves taking the time to think about what you have learned and how it can be applied to future experiences. It is a key component of learning because it helps to deepen understanding, promote self-awareness, and form connections between new and existing knowledge.'},\n",
       "  {'url': 'https://pmc.ncbi.nlm.nih.gov/articles/PMC5035282/',\n",
       "   'content': 'Educators have understood reflection as a key element of learning for decades, dating at least back to John Dewey [1]. can play an important role in several aspects of learning from practice: it promotes active engagement and making meaning of experience; it can increase intentionality, and it also focuses learners on using their reflections as a means to guide their future learning, and therefore to be more goal-directed. Importantly, in so doing, can we view reflection as a means of engagement which supports learners’ readiness – their development of competence in what they know, can do and value, and as a vehicle for deepening participation? Educating the reflective practitioner: toward a new design for teaching and learning in the professions.'}]]"
      ]
     },
     "execution_count": 23,
     "metadata": {},
     "output_type": "execute_result"
    }
   ],
   "source": [
    "def run_queries(search_queries: list[str], **kwargs):\n",
    "    \"\"\"Run the generated queries.\"\"\"\n",
    "    return tavily_tool.batch([{\"query\": query} for query in search_queries])\n",
    "\n",
    "search_result = run_queries(['importance of reflection in artificial intelligence', 'examples of reflection in AI', 'role of reflection in machine learning'])\n",
    "\n",
    "search_result\n"
   ]
  },
  {
   "cell_type": "markdown",
   "metadata": {},
   "source": [
    "**Initial responder**\n",
    "\n"
   ]
  },
  {
   "cell_type": "code",
   "execution_count": 3,
   "metadata": {},
   "outputs": [
    {
     "name": "stdout",
     "output_type": "stream",
     "text": [
      "{'properties': {'missing': {'description': 'Critique of what is missing.', 'title': 'Missing', 'type': 'string'}, 'superfluous': {'description': 'Critique of what is superfluous.', 'title': 'Superfluous', 'type': 'string'}}, 'required': ['missing', 'superfluous'], 'title': 'Reflection', 'type': 'object'}\n",
      "{'$defs': {'Reflection': {'properties': {'missing': {'description': 'Critique of what is missing.', 'title': 'Missing', 'type': 'string'}, 'superfluous': {'description': 'Critique of what is superfluous.', 'title': 'Superfluous', 'type': 'string'}}, 'required': ['missing', 'superfluous'], 'title': 'Reflection', 'type': 'object'}}, 'properties': {'answer': {'description': '~250 words detailed answer to the question.', 'title': 'Answer', 'type': 'string'}, 'reflection': {'$ref': '#/$defs/Reflection', 'description': 'The reflection on the inital answer.'}, 'search_query': {'description': '1-3 search queries for improvements to adress the critique of your current answer.', 'items': {'type': 'string'}, 'title': 'Search Query', 'type': 'array'}}, 'required': ['answer', 'reflection', 'search_query'], 'title': 'AnswerQuestion', 'type': 'object'}\n"
     ]
    }
   ],
   "source": [
    "from pydantic import BaseModel, Field\n",
    "from pydantic import ValidationError\n",
    "from langchain_core.messages import ToolMessage\n",
    "\n",
    "# define the output of model\n",
    "class Reflection(BaseModel):\n",
    "    missing: str = Field(description=\"Critique of what is missing.\")\n",
    "    superfluous: str = Field(description=\"Critique of what is superfluous.\")\n",
    "\n",
    "print(Reflection.model_json_schema())\n",
    "\n",
    "class AnswerQuestion(BaseModel):\n",
    "    answer: str = Field(description=\"~250 words detailed answer to the question.\")\n",
    "    reflection: Reflection = Field(description=\"The reflection on the inital answer.\")\n",
    "    search_query: list[str] = Field(description=\"1-3 search queries for improvements to adress the critique of your current answer.\")\n",
    "\n",
    "print(AnswerQuestion.model_json_schema())\n"
   ]
  },
  {
   "cell_type": "code",
   "execution_count": 30,
   "metadata": {},
   "outputs": [
    {
     "data": {
      "text/plain": [
       "AIMessage(content='', additional_kwargs={'tool_calls': [{'id': 'call_fTlR157P8kwZM3fBCDzoSSNp', 'function': {'arguments': '{\"answer\":\"Reflection in AI is a critical component that enhances the understanding and performance of AI systems. It allows AI models to evaluate their own processes and outcomes, leading to improved decision-making and adaptability. By reflecting on previous actions, an AI can assess the effectiveness of its strategies, learn from mistakes, and adjust its approach accordingly. This self-assessment capability is particularly important in dynamic environments where conditions can change rapidly, requiring the AI to adapt its behavior in real time.\\\\n\\\\nMoreover, reflection can facilitate knowledge retention, enabling AI systems to build on past experiences rather than starting from scratch each time. This is akin to how humans learn from experience, making reflection a vital aspect of developing more intelligent and autonomous systems.\\\\n\\\\nIn addition, reflection aids in accountability and transparency, allowing developers and users to understand how an AI system arrived at a particular decision. This is crucial in applications such as healthcare and finance, where decisions can have significant consequences. Overall, reflection fosters continuous improvement in AI systems, ensuring they evolve and respond effectively to new challenges.\",\"reflection\":{\"missing\":\"The answer could include specific examples of reflection in AI applications, such as reinforcement learning or self-improving algorithms, to illustrate the concept better.\",\"superfluous\":\"The mention of human learning could be condensed, as the focus should primarily be on AI systems rather than drawing parallels with human cognition.\"},\"search_query\":[\"importance of reflection in AI\",\"examples of reflection in AI systems\",\"self-improving algorithms in AI\"]}', 'name': 'AnswerQuestion'}, 'type': 'function'}], 'refusal': None}, response_metadata={'token_usage': {'completion_tokens': 309, 'prompt_tokens': 214, 'total_tokens': 523, 'completion_tokens_details': {'accepted_prediction_tokens': 0, 'audio_tokens': 0, 'reasoning_tokens': 0, 'rejected_prediction_tokens': 0}, 'prompt_tokens_details': {'audio_tokens': 0, 'cached_tokens': 0}}, 'model_name': 'gpt-4o-mini-2024-07-18', 'system_fingerprint': 'fp_0aa8d3e20b', 'finish_reason': 'tool_calls', 'logprobs': None}, id='run-f2362944-63d8-4154-8d18-104570c0211c-0', tool_calls=[{'name': 'AnswerQuestion', 'args': {'answer': 'Reflection in AI is a critical component that enhances the understanding and performance of AI systems. It allows AI models to evaluate their own processes and outcomes, leading to improved decision-making and adaptability. By reflecting on previous actions, an AI can assess the effectiveness of its strategies, learn from mistakes, and adjust its approach accordingly. This self-assessment capability is particularly important in dynamic environments where conditions can change rapidly, requiring the AI to adapt its behavior in real time.\\n\\nMoreover, reflection can facilitate knowledge retention, enabling AI systems to build on past experiences rather than starting from scratch each time. This is akin to how humans learn from experience, making reflection a vital aspect of developing more intelligent and autonomous systems.\\n\\nIn addition, reflection aids in accountability and transparency, allowing developers and users to understand how an AI system arrived at a particular decision. This is crucial in applications such as healthcare and finance, where decisions can have significant consequences. Overall, reflection fosters continuous improvement in AI systems, ensuring they evolve and respond effectively to new challenges.', 'reflection': {'missing': 'The answer could include specific examples of reflection in AI applications, such as reinforcement learning or self-improving algorithms, to illustrate the concept better.', 'superfluous': 'The mention of human learning could be condensed, as the focus should primarily be on AI systems rather than drawing parallels with human cognition.'}, 'search_query': ['importance of reflection in AI', 'examples of reflection in AI systems', 'self-improving algorithms in AI']}, 'id': 'call_fTlR157P8kwZM3fBCDzoSSNp', 'type': 'tool_call'}], usage_metadata={'input_tokens': 214, 'output_tokens': 309, 'total_tokens': 523, 'input_token_details': {'audio': 0, 'cache_read': 0}, 'output_token_details': {'audio': 0, 'reasoning': 0}})"
      ]
     },
     "execution_count": 30,
     "metadata": {},
     "output_type": "execute_result"
    }
   ],
   "source": [
    "# create prompt\n",
    "from datetime import datetime\n",
    "from langchain_core.output_parsers import PydanticOutputParser\n",
    "\n",
    "actor_prompt_template = ChatPromptTemplate.from_messages(\n",
    "    [\n",
    "        (\"system\",\n",
    "         \"\"\"You are expert researcher.\n",
    "         Current time: {time}\n",
    "         1. {first_instruction}\n",
    "         2. Reflect and critique your answer. Be severe to maximize improvement.\n",
    "         3. Recommend search queries to research information and improve your answer.\"\"\"),\n",
    "        MessagesPlaceholder(variable_name=\"messages\"),\n",
    "        (\"user\", \"\"\"\n",
    "        \"\\n\\n<reminder>Reflect on the user's original question and the\"\n",
    "            \" actions taken thus far. Respond using the {function_name} function.</reminder>\"\n",
    "         \"\"\")\n",
    "    ]\n",
    ").partial(time = lambda: datetime.now().isoformat())\n",
    "\n",
    "initial_answer_chain = actor_prompt_template.partial(\n",
    "    first_instruction = \"Provide a detailed ~250 word answer.\",\n",
    "    function_name = AnswerQuestion.__name__\n",
    ") | llm.bind_tools(tools=[AnswerQuestion])\n",
    "\n",
    "question = \"Why is reflection useful in AI?\"\n",
    "\n",
    "initial_message = initial_answer_chain.invoke({\"messages\": [HumanMessage(content=question)]})\n",
    "\n",
    "initial_message\n"
   ]
  },
  {
   "cell_type": "code",
   "execution_count": 6,
   "metadata": {},
   "outputs": [
    {
     "data": {
      "text/plain": [
       "('',\n",
       " [{'name': 'AnswerQuestion',\n",
       "   'args': {'answer': 'Reflection is a crucial aspect of artificial intelligence (AI) for several reasons. Firstly, it allows AI systems to evaluate their performance and learn from past experiences. When an AI system reflects on its decisions, it can identify patterns in its successes and failures, leading to improved decision-making processes in future scenarios. This iterative learning process is foundational for developing adaptive algorithms that can refine themselves over time.\\n\\nSecondly, reflection facilitates enhanced interpretability and transparency in AI systems. By understanding how an AI arrived at a particular conclusion, researchers and users can assess the reliability and relevance of its outputs. This is particularly important in high-stakes applications, such as healthcare and finance, where the implications of AI decisions can greatly impact human lives and financial stability.\\n\\nAdditionally, reflection can support ethical considerations in AI development. By incorporating reflective practices, developers can better evaluate the societal impacts of their algorithms, ensuring that AI systems are designed with fairness, accountability, and inclusivity in mind. This practice encourages a critical examination of biases present in training data and model outputs.\\n\\nIn summary, reflection in AI contributes to improved learning, interpretability, and ethical considerations, making it essential for developing robust, trustworthy, and user-centered AI systems.',\n",
       "    'reflection': {'missing': 'The answer lacks specific examples of AI applications where reflection is utilized, such as reinforcement learning or explainable AI.',\n",
       "     'superfluous': 'Some points could have been more concise; for instance, the emphasis on ethical considerations could have been briefly mentioned without extensive elaboration.'},\n",
       "    'search_query': ['importance of reflection in artificial intelligence',\n",
       "     'examples of reflection in AI',\n",
       "     'role of reflection in machine learning']},\n",
       "   'id': 'call_3vWVDyQYcxd2A243im01JvBU',\n",
       "   'type': 'tool_call'}])"
      ]
     },
     "execution_count": 6,
     "metadata": {},
     "output_type": "execute_result"
    }
   ],
   "source": [
    "message.content, message.tool_calls"
   ]
  },
  {
   "cell_type": "code",
   "execution_count": 24,
   "metadata": {},
   "outputs": [
    {
     "data": {
      "text/plain": [
       "[[{'url': 'https://www.semanticscholar.org/paper/Reflective-Artificial-Intelligence-Lewis-Sarkadi/3d222012bd85ca7a33e726e107ba55c910ead827',\n",
       "   'content': \"This paper asks what reflective AI might look like, drawing on notions of reflection in complex systems, cognitive science, and agents, and sketches an architecture for reflective AI agents, and highlights ways forward. As artificial intelligence (AI) technology advances, we increasingly delegate mental tasks to machines. However, today's AI systems usually do these tasks with an unusual\"},\n",
       "  {'url': 'https://deepai.org/publication/reflective-artificial-intelligence',\n",
       "   'content': \"Peter R. Lewis\\nStefan Sarkadi\\npage 1\\npage 2\\npage 3\\npage 4\\nRelated Research\\nMaking AI 'Smart': Bridging AI and Cognitive Science\\nDigital Normativity: A challenge for human subjectivization and free\\nwill\\nBuilding Human-like Communicative Intelligence: A Grounded Perspective\\nExperience, Imitation and Reflection; Confucius' Conjecture and Machine\\nLearning\\nMoral Dilemmas for Artificial Intelligence: a position paper on an\\napplication of Compositional Quantum Cognition\\nCogniculture: Towards a Better Human-Machine Co-evolution\\nConscious AI\\nLogin\\nPlease sign up or login with your details\\nPricing\\nGeneration Overview\\nAI Generator calls\\nAI Chat messages\\nGenius Mode messages\\nGenius Mode images\\nAD-free experience\\nPrivate images\\nAPI access\\nPer month\\n500\\n1750\\n60\\n60\\nOut of credits\\nRefill your membership to continue using DeepAI\\nSHARE\\nDeepAI Reflective Artificial Intelligence\\nArtificial Intelligence (AI) is about making computers that do the sorts of\\nthings that minds can do, and as we progress towards this goal, we tend to\\nincreasingly delegate human tasks to machines. However, AI systems usually do\\nthese tasks with an unusual imbalance of insight and understanding: new, deeper\\ninsights are present, yet many important qualities that a human mind would have\\npreviously brought to the activity are utterly absent. Then, drawing on\\nnotions of reflection in complex systems, cognitive science, and agents, we\\nsketch an architecture for reflective AI agents, and highlight ways forward.\\n\"},\n",
       "  {'url': 'https://arxiv.org/abs/2301.10823',\n",
       "   'content': 'arXiv:2301.10823 Help | Advanced Search arXiv author ID Artificial Intelligence (AI) is about making computers that do the sorts of things that minds can do, and as we progress towards this goal, we tend to increasingly delegate human tasks to machines. However, AI systems usually do these tasks with an unusual imbalance of insight and understanding: new, deeper insights are present, yet many important qualities that a human mind would have previously brought to the activity are utterly absent. In this paper we ask what reflective AI might look like. Subjects:   Artificial Intelligence (cs.AI) Cite as:    arXiv:2301.10823 [cs.AI] (or arXiv:2301.10823v3 [cs.AI] for this version) https://doi.org/10.48550/arXiv.2301.10823 From: Stefan Sarkadi [view email] cs.AI Bibliographic and Citation Tools Connected Papers Toggle scite.ai Toggle'}],\n",
       " [{'url': 'https://www.inoru.com/reflection-based-ai-applications',\n",
       "   'content': 'Discover how reflection-based AI models are revolutionizing industries with adaptive, self-learning solutions. This next-generation AI taps into the power of reflection, enabling systems to adapt, evolve, and fine-tune themselves based on real-time feedback. For example, a reflection-based AI model can continuously \"learn\" from a doctor\\'s input as they assess symptoms, adjusting its diagnostic approach based on real-time feedback. These AI models are continuously learning from customer behavior, gathering insights on everything from browsing habits to purchase history, and then reflecting on that data to deliver hyper-personalized marketing campaigns. Enter self-learning virtual workspaces, where reflection-based AI helps streamline collaboration and workflows in real time. Reflection-based AI models are not just tools—they are game changers, continuously learning and evolving to meet the unique demands of various industries.'},\n",
       "  {'url': 'https://relevanceai.com/prompt-engineering/teach-your-ai-to-reflect-for-better-responses',\n",
       "   'content': 'Reflexion prompting is a technique that allows AI models to review and improve their own responses before delivering them, similar to how humans pause to reflect on their thoughts before speaking. For instance, in customer service scenarios, AI systems using Reflexion Prompting have shown marked improvements in response accuracy and user satisfaction. Reflexion prompting is a powerful technique that enables AI systems to review and improve their own responses before delivering them, leading to more accurate and thoughtful outputs. For example, when asking an AI for help with a complex task, you can include a simple prompt like \"Before providing your final answer, please review your response and identify any potential improvements or missing information.\" This extra step of self-evaluation helps ensure you receive more comprehensive and reliable assistance, much like asking a friend to double-check their work before sharing it.'},\n",
       "  {'url': 'https://www.kent.edu/ctl/ai-use-reflection-prompts-students',\n",
       "   'content': 'AI-Use Reflection Prompt Examples for Students Post-Assignment Reflection Prompt Examples • Short & Sweet: Add a note indicating which AI tool you used and how you used it, including the prompt(s) you used and the date(s) • Learning Focused: 1) In what ways did AI help you achieve your learning goals for this'}],\n",
       " [{'url': 'https://link.springer.com/article/10.1007/s11023-024-09664-2',\n",
       "   'content': \"4 The Role of Reflection in Driving Human Behaviour. ... Considering these common machine learning architectures, it is clear that there is a lack of any reflective 'loop'. Although these achieve different outcomes, they are qualitatively equivalent in the sense that they both operate at a single level of abstraction when it comes to\"},\n",
       "  {'url': 'https://www.ool.co.uk/blog/the-role-of-reflection-in-learning/',\n",
       "   'content': 'Reflection is a powerful tool that can be used in any learning process. It involves taking the time to think about what you have learned and how it can be applied to future experiences. It is a key component of learning because it helps to deepen understanding, promote self-awareness, and form connections between new and existing knowledge.'},\n",
       "  {'url': 'https://pmc.ncbi.nlm.nih.gov/articles/PMC5035282/',\n",
       "   'content': 'Educators have understood reflection as a key element of learning for decades, dating at least back to John Dewey [1]. can play an important role in several aspects of learning from practice: it promotes active engagement and making meaning of experience; it can increase intentionality, and it also focuses learners on using their reflections as a means to guide their future learning, and therefore to be more goal-directed. Importantly, in so doing, can we view reflection as a means of engagement which supports learners’ readiness – their development of competence in what they know, can do and value, and as a vehicle for deepening participation? Educating the reflective practitioner: toward a new design for teaching and learning in the professions.'}]]"
      ]
     },
     "execution_count": 24,
     "metadata": {},
     "output_type": "execute_result"
    }
   ],
   "source": [
    "# call tools\n",
    "search_result = run_queries(initial_message.tool_calls[0]['args']['search_query'])\n",
    "\n",
    "search_result\n",
    "\n"
   ]
  },
  {
   "cell_type": "code",
   "execution_count": 26,
   "metadata": {},
   "outputs": [
    {
     "data": {
      "text/plain": [
       "'[[{\"url\": \"https://www.semanticscholar.org/paper/Reflective-Artificial-Intelligence-Lewis-Sarkadi/3d222012bd85ca7a33e726e107ba55c910ead827\", \"content\": \"This paper asks what reflective AI might look like, drawing on notions of reflection in complex systems, cognitive science, and agents, and sketches an architecture for reflective AI agents, and highlights ways forward. As artificial intelligence (AI) technology advances, we increasingly delegate mental tasks to machines. However, today\\'s AI systems usually do these tasks with an unusual\"}, {\"url\": \"https://deepai.org/publication/reflective-artificial-intelligence\", \"content\": \"Peter R. Lewis\\\\nStefan Sarkadi\\\\npage 1\\\\npage 2\\\\npage 3\\\\npage 4\\\\nRelated Research\\\\nMaking AI \\'Smart\\': Bridging AI and Cognitive Science\\\\nDigital Normativity: A challenge for human subjectivization and free\\\\nwill\\\\nBuilding Human-like Communicative Intelligence: A Grounded Perspective\\\\nExperience, Imitation and Reflection; Confucius\\' Conjecture and Machine\\\\nLearning\\\\nMoral Dilemmas for Artificial Intelligence: a position paper on an\\\\napplication of Compositional Quantum Cognition\\\\nCogniculture: Towards a Better Human-Machine Co-evolution\\\\nConscious AI\\\\nLogin\\\\nPlease sign up or login with your details\\\\nPricing\\\\nGeneration Overview\\\\nAI Generator calls\\\\nAI Chat messages\\\\nGenius Mode messages\\\\nGenius Mode images\\\\nAD-free experience\\\\nPrivate images\\\\nAPI access\\\\nPer month\\\\n500\\\\n1750\\\\n60\\\\n60\\\\nOut of credits\\\\nRefill your membership to continue using DeepAI\\\\nSHARE\\\\nDeepAI Reflective Artificial Intelligence\\\\nArtificial Intelligence (AI) is about making computers that do the sorts of\\\\nthings that minds can do, and as we progress towards this goal, we tend to\\\\nincreasingly delegate human tasks to machines. However, AI systems usually do\\\\nthese tasks with an unusual imbalance of insight and understanding: new, deeper\\\\ninsights are present, yet many important qualities that a human mind would have\\\\npreviously brought to the activity are utterly absent. Then, drawing on\\\\nnotions of reflection in complex systems, cognitive science, and agents, we\\\\nsketch an architecture for reflective AI agents, and highlight ways forward.\\\\n\"}, {\"url\": \"https://arxiv.org/abs/2301.10823\", \"content\": \"arXiv:2301.10823 Help | Advanced Search arXiv author ID Artificial Intelligence (AI) is about making computers that do the sorts of things that minds can do, and as we progress towards this goal, we tend to increasingly delegate human tasks to machines. However, AI systems usually do these tasks with an unusual imbalance of insight and understanding: new, deeper insights are present, yet many important qualities that a human mind would have previously brought to the activity are utterly absent. In this paper we ask what reflective AI might look like. Subjects:   Artificial Intelligence (cs.AI) Cite as:    arXiv:2301.10823 [cs.AI] (or arXiv:2301.10823v3 [cs.AI] for this version) https://doi.org/10.48550/arXiv.2301.10823 From: Stefan Sarkadi [view email] cs.AI Bibliographic and Citation Tools Connected Papers Toggle scite.ai Toggle\"}], [{\"url\": \"https://www.inoru.com/reflection-based-ai-applications\", \"content\": \"Discover how reflection-based AI models are revolutionizing industries with adaptive, self-learning solutions. This next-generation AI taps into the power of reflection, enabling systems to adapt, evolve, and fine-tune themselves based on real-time feedback. For example, a reflection-based AI model can continuously \\\\\"learn\\\\\" from a doctor\\'s input as they assess symptoms, adjusting its diagnostic approach based on real-time feedback. These AI models are continuously learning from customer behavior, gathering insights on everything from browsing habits to purchase history, and then reflecting on that data to deliver hyper-personalized marketing campaigns. Enter self-learning virtual workspaces, where reflection-based AI helps streamline collaboration and workflows in real time. Reflection-based AI models are not just tools\\\\u2014they are game changers, continuously learning and evolving to meet the unique demands of various industries.\"}, {\"url\": \"https://relevanceai.com/prompt-engineering/teach-your-ai-to-reflect-for-better-responses\", \"content\": \"Reflexion prompting is a technique that allows AI models to review and improve their own responses before delivering them, similar to how humans pause to reflect on their thoughts before speaking. For instance, in customer service scenarios, AI systems using Reflexion Prompting have shown marked improvements in response accuracy and user satisfaction. Reflexion prompting is a powerful technique that enables AI systems to review and improve their own responses before delivering them, leading to more accurate and thoughtful outputs. For example, when asking an AI for help with a complex task, you can include a simple prompt like \\\\\"Before providing your final answer, please review your response and identify any potential improvements or missing information.\\\\\" This extra step of self-evaluation helps ensure you receive more comprehensive and reliable assistance, much like asking a friend to double-check their work before sharing it.\"}, {\"url\": \"https://www.kent.edu/ctl/ai-use-reflection-prompts-students\", \"content\": \"AI-Use Reflection Prompt Examples for Students Post-Assignment Reflection Prompt Examples \\\\u2022 Short & Sweet: Add a note indicating which AI tool you used and how you used it, including the prompt(s) you used and the date(s) \\\\u2022 Learning Focused: 1) In what ways did AI help you achieve your learning goals for this\"}], [{\"url\": \"https://link.springer.com/article/10.1007/s11023-024-09664-2\", \"content\": \"4 The Role of Reflection in Driving Human Behaviour. ... Considering these common machine learning architectures, it is clear that there is a lack of any reflective \\'loop\\'. Although these achieve different outcomes, they are qualitatively equivalent in the sense that they both operate at a single level of abstraction when it comes to\"}, {\"url\": \"https://www.ool.co.uk/blog/the-role-of-reflection-in-learning/\", \"content\": \"Reflection is a powerful tool that can be used in any learning process. It involves taking the time to think about what you have learned and how it can be applied to future experiences. It is a key component of learning because it helps to deepen understanding, promote self-awareness, and form connections between new and existing knowledge.\"}, {\"url\": \"https://pmc.ncbi.nlm.nih.gov/articles/PMC5035282/\", \"content\": \"Educators have understood reflection as a key element of learning for decades, dating at least back to John Dewey [1]. can play an important role in several aspects of learning from practice: it promotes active engagement and making meaning of experience; it can increase intentionality, and it also focuses learners on using their reflections as a means to guide their future learning, and therefore to be more goal-directed. Importantly, in so doing, can we view reflection as a means of engagement which supports learners\\\\u2019 readiness \\\\u2013 their development of competence in what they know, can do and value, and as a vehicle for deepening participation? Educating the reflective practitioner: toward a new design for teaching and learning in the professions.\"}]]'"
      ]
     },
     "execution_count": 26,
     "metadata": {},
     "output_type": "execute_result"
    }
   ],
   "source": [
    "import json\n",
    "json.dumps(search_result)"
   ]
  },
  {
   "cell_type": "code",
   "execution_count": 29,
   "metadata": {},
   "outputs": [],
   "source": [
    "# revise the answer base on search result\n",
    "\n",
    "# define prompt\n",
    "revise_instructions = \"\"\"Revise your previous answer using the new information.\n",
    "    - You should use the previous critique to add important information to your answer.\n",
    "        - You MUST include numerical citations in your revised answer to ensure it can be verified.\n",
    "        - Add a \"References\" section to the bottom of your answer (which does not count towards the word limit). In form of:\n",
    "            - [1] https://example.com\n",
    "            - [2] https://example.com\n",
    "    - You should use the previous critique to remove superfluous information from your answer and make SURE it is not more than 250 words.\n",
    "\"\"\"\n",
    "\n",
    "# define output format\n",
    "class RevisedAnswer(AnswerQuestion):\n",
    "    \"\"\" Revise your original answer to your question. Provide an answer, reflection,\n",
    "    cite your reflection with references, and finally\n",
    "    and search queries to improve you answer.\n",
    "    \"\"\"\n",
    "    references: list[str] = Field(description=\"Citations movivating your updated answer.\")\n",
    "\n",
    "\n",
    "revision_chain = actor_prompt_template.partial(\n",
    "    first_instruction = revise_instructions,\n",
    "    function_name = RevisedAnswer.__name__\n",
    ") | llm.bind_tools(tools=[RevisedAnswer])\n"
   ]
  },
  {
   "cell_type": "code",
   "execution_count": 32,
   "metadata": {},
   "outputs": [
    {
     "data": {
      "text/plain": [
       "AIMessage(content='', additional_kwargs={'tool_calls': [{'id': 'call_wCElkBePXFIxmDYGqS0vIJkJ', 'function': {'arguments': '{\"answer\":\"Reflection in AI is crucial for enhancing system performance and adaptability. It allows AI to evaluate its actions and outcomes, leading to better decision-making and learning from past experiences. For instance, in reinforcement learning, AI agents utilize reflection to assess the success of their strategies, enabling them to modify their approach based on feedback from their environment. This self-assessment is vital in dynamic settings where rapid adaptation is necessary.\\\\n\\\\nMoreover, reflection facilitates knowledge retention, allowing AI systems to build upon prior experiences instead of starting anew each time. By incorporating reflection, AI can continuously improve its processes, similar to how humans learn from their experiences. This is particularly important in fields like healthcare, where AI must provide accurate diagnostics based on previous cases.\\\\n\\\\nAdditionally, reflection promotes transparency and accountability in AI systems, providing insights into the decision-making process which is essential in high-stakes applications. Overall, reflection is a key element in developing intelligent, autonomous AI systems that can effectively tackle evolving challenges.\",\"reflection\":{\"missing\":\"The revised answer should include more specific examples of AI applications that utilize reflection, such as adaptive learning systems.\",\"superfluous\":\"The explanation of human learning parallels could be minimized to maintain focus on AI\\'s unique capabilities.\"},\"search_query\":[\"AI reflection examples\",\"adaptive learning in AI\",\"importance of self-assessment in AI systems\"],\"references\":[\"[1] https://www.semanticscholar.org/paper/Reflective-Artificial-Intelligence-Lewis-Sarkadi/3d222012bd85ca7a33e726e107ba55c910ead827\",\"[2] https://deepai.org/publication/reflective-artificial-intelligence\",\"[3] https://www.inoru.com/reflection-based-ai-applications\"]}', 'name': 'RevisedAnswer'}, 'type': 'function'}], 'refusal': None}, response_metadata={'token_usage': {'completion_tokens': 365, 'prompt_tokens': 2242, 'total_tokens': 2607, 'completion_tokens_details': {'accepted_prediction_tokens': 0, 'audio_tokens': 0, 'reasoning_tokens': 0, 'rejected_prediction_tokens': 0}, 'prompt_tokens_details': {'audio_tokens': 0, 'cached_tokens': 0}}, 'model_name': 'gpt-4o-mini-2024-07-18', 'system_fingerprint': 'fp_0aa8d3e20b', 'finish_reason': 'tool_calls', 'logprobs': None}, id='run-d1114648-9626-4405-9b40-6573bfc5cb45-0', tool_calls=[{'name': 'RevisedAnswer', 'args': {'answer': 'Reflection in AI is crucial for enhancing system performance and adaptability. It allows AI to evaluate its actions and outcomes, leading to better decision-making and learning from past experiences. For instance, in reinforcement learning, AI agents utilize reflection to assess the success of their strategies, enabling them to modify their approach based on feedback from their environment. This self-assessment is vital in dynamic settings where rapid adaptation is necessary.\\n\\nMoreover, reflection facilitates knowledge retention, allowing AI systems to build upon prior experiences instead of starting anew each time. By incorporating reflection, AI can continuously improve its processes, similar to how humans learn from their experiences. This is particularly important in fields like healthcare, where AI must provide accurate diagnostics based on previous cases.\\n\\nAdditionally, reflection promotes transparency and accountability in AI systems, providing insights into the decision-making process which is essential in high-stakes applications. Overall, reflection is a key element in developing intelligent, autonomous AI systems that can effectively tackle evolving challenges.', 'reflection': {'missing': 'The revised answer should include more specific examples of AI applications that utilize reflection, such as adaptive learning systems.', 'superfluous': \"The explanation of human learning parallels could be minimized to maintain focus on AI's unique capabilities.\"}, 'search_query': ['AI reflection examples', 'adaptive learning in AI', 'importance of self-assessment in AI systems'], 'references': ['[1] https://www.semanticscholar.org/paper/Reflective-Artificial-Intelligence-Lewis-Sarkadi/3d222012bd85ca7a33e726e107ba55c910ead827', '[2] https://deepai.org/publication/reflective-artificial-intelligence', '[3] https://www.inoru.com/reflection-based-ai-applications']}, 'id': 'call_wCElkBePXFIxmDYGqS0vIJkJ', 'type': 'tool_call'}], usage_metadata={'input_tokens': 2242, 'output_tokens': 365, 'total_tokens': 2607, 'input_token_details': {'audio': 0, 'cache_read': 0}, 'output_token_details': {'audio': 0, 'reasoning': 0}})"
      ]
     },
     "execution_count": 32,
     "metadata": {},
     "output_type": "execute_result"
    }
   ],
   "source": [
    "messages = [\n",
    "    HumanMessage(content=question), # Human message\n",
    "    initial_message, # AI message\n",
    "    ToolMessage(tool_call_id=initial_message.tool_calls[0]['id'], content=json.dumps(search_result)), # Tool message\n",
    "]\n",
    "\n",
    "revision_message = revision_chain.invoke({\"messages\": messages})\n",
    "\n",
    "revision_message\n"
   ]
  },
  {
   "cell_type": "code",
   "execution_count": 35,
   "metadata": {},
   "outputs": [
    {
     "data": {
      "text/plain": [
       "[{'name': 'RevisedAnswer',\n",
       "  'args': {'answer': 'Reflection in AI is crucial for enhancing system performance and adaptability. It allows AI to evaluate its actions and outcomes, leading to better decision-making and learning from past experiences. For instance, in reinforcement learning, AI agents utilize reflection to assess the success of their strategies, enabling them to modify their approach based on feedback from their environment. This self-assessment is vital in dynamic settings where rapid adaptation is necessary.\\n\\nMoreover, reflection facilitates knowledge retention, allowing AI systems to build upon prior experiences instead of starting anew each time. By incorporating reflection, AI can continuously improve its processes, similar to how humans learn from their experiences. This is particularly important in fields like healthcare, where AI must provide accurate diagnostics based on previous cases.\\n\\nAdditionally, reflection promotes transparency and accountability in AI systems, providing insights into the decision-making process which is essential in high-stakes applications. Overall, reflection is a key element in developing intelligent, autonomous AI systems that can effectively tackle evolving challenges.',\n",
       "   'reflection': {'missing': 'The revised answer should include more specific examples of AI applications that utilize reflection, such as adaptive learning systems.',\n",
       "    'superfluous': \"The explanation of human learning parallels could be minimized to maintain focus on AI's unique capabilities.\"},\n",
       "   'search_query': ['AI reflection examples',\n",
       "    'adaptive learning in AI',\n",
       "    'importance of self-assessment in AI systems'],\n",
       "   'references': ['[1] https://www.semanticscholar.org/paper/Reflective-Artificial-Intelligence-Lewis-Sarkadi/3d222012bd85ca7a33e726e107ba55c910ead827',\n",
       "    '[2] https://deepai.org/publication/reflective-artificial-intelligence',\n",
       "    '[3] https://www.inoru.com/reflection-based-ai-applications']},\n",
       "  'id': 'call_wCElkBePXFIxmDYGqS0vIJkJ',\n",
       "  'type': 'tool_call'}]"
      ]
     },
     "execution_count": 35,
     "metadata": {},
     "output_type": "execute_result"
    }
   ],
   "source": [
    "revision_message.tool_calls\n"
   ]
  },
  {
   "cell_type": "code",
   "execution_count": 94,
   "metadata": {},
   "outputs": [],
   "source": [
    "# build graph\n",
    "from typing import Literal\n",
    "from langgraph.graph import END, StateGraph, START\n",
    "from langgraph.graph.message import add_messages\n",
    "from typing import Annotated\n",
    "from typing_extensions import TypedDict\n",
    "\n",
    "class State(TypedDict):\n",
    "    messages: Annotated[list[BaseMessage], add_messages]\n",
    "\n",
    "\n",
    "def draft_chain(state: State):\n",
    "    initial_message = initial_answer_chain.invoke({\"messages\": [HumanMessage(content=question)]})\n",
    "    return {'messages': [initial_message]}\n",
    "\n",
    "def execute_tools(state: State):\n",
    "    \"\"\"Execute any tool calls requested by the model.\n",
    "    \n",
    "    Args:\n",
    "        state: Current state containing message history\n",
    "        \n",
    "    Returns:\n",
    "        dict: Updated state with results of tool executions\n",
    "    \"\"\"\n",
    "    # Get the last message which should contain tool calls\n",
    "    tool_calls = state['messages'][-1].tool_calls\n",
    "    results = []\n",
    "    \n",
    "    # Execute each tool call\n",
    "    for t in tool_calls:\n",
    "        print(f\"Executing tool: {t}\")\n",
    "        try:\n",
    "            # Execute the tool\n",
    "            if t['name'] in ['AnswerQuestion', 'RevisedAnswer']:\n",
    "                # initial_message.tool_calls[0]['args']['search_query']\n",
    "                result = run_queries(t['args']['search_query'])\n",
    "                \n",
    "        except Exception as e:\n",
    "            print(f\"Tool execution failed: {e}\")\n",
    "            result = f\"Error: {str(e)}\"\n",
    "            \n",
    "        # Add result as a tool message\n",
    "        results.append(\n",
    "            ToolMessage(\n",
    "                tool_call_id=t['id'],\n",
    "                name=t['name'], \n",
    "                content=json.dumps(result)\n",
    "            )\n",
    "        )\n",
    "        \n",
    "    print(\"Tool execution complete\")\n",
    "    return {'messages': results}\n",
    "    \n",
    "\n",
    "def revise_chain(state: State):\n",
    "    revision_message = revision_chain.invoke({\"messages\": state['messages']})\n",
    "    return {'messages': [revision_message]}\n",
    "\n",
    "def looper(state: State):\n",
    "    # count the number of messages\n",
    "    if len(state['messages']) < 6:\n",
    "        return \"execute_tools\"\n",
    "    else:\n",
    "        return END\n",
    "\n",
    "MAX_ITERATIONS = 5\n",
    "\n",
    "graph = StateGraph(State)\n",
    "\n",
    "graph.add_node(\"draft\", draft_chain)\n",
    "graph.add_node(\"execute_tools\", execute_tools)\n",
    "graph.add_node(\"revise\", revise_chain)\n",
    "\n",
    "graph.add_edge(START, \"draft\")\n",
    "graph.add_edge(\"draft\", \"execute_tools\")\n",
    "graph.add_edge(\"execute_tools\", \"revise\")\n",
    "\n",
    "graph.add_conditional_edges(\n",
    "    \"revise\",\n",
    "    looper,\n",
    "    [\"execute_tools\", END],\n",
    ")\n",
    "\n",
    "run_graph = graph.compile()"
   ]
  },
  {
   "cell_type": "code",
   "execution_count": 95,
   "metadata": {},
   "outputs": [
    {
     "data": {
      "image/png": "[encoded data removed]",
      "text/plain": [
       "<IPython.core.display.Image object>"
      ]
     },
     "execution_count": 95,
     "metadata": {},
     "output_type": "execute_result"
    }
   ],
   "source": [
    "# plot run_graph\n",
    "from IPython.display import Image\n",
    "\n",
    "Image(run_graph.get_graph().draw_png())"
   ]
  },
  {
   "cell_type": "code",
   "execution_count": 96,
   "metadata": {},
   "outputs": [
    {
     "name": "stdout",
     "output_type": "stream",
     "text": [
      "Step 0\n",
      "================================\u001b[1m Human Message \u001b[0m=================================\n",
      "\n",
      "Why is reflection useful in AI?\n",
      "Step 1\n",
      "==================================\u001b[1m Ai Message \u001b[0m==================================\n",
      "Tool Calls:\n",
      "  AnswerQuestion (call_NVBsJ5UBj9GsMRhSD626EUhB)\n",
      " Call ID: call_NVBsJ5UBj9GsMRhSD626EUhB\n",
      "  Args:\n",
      "    answer: Reflection is a crucial aspect of artificial intelligence (AI) because it enhances the ability of AI systems to learn from their experiences and adapt their behavior accordingly. By incorporating reflective processes, AI can analyze previous actions, evaluate their effectiveness, and adjust future strategies to improve outcomes. This is particularly significant in machine learning and reinforcement learning, where agents learn optimal behaviors through trial and error. \n",
      "\n",
      "Moreover, reflection can help AI systems develop a deeper understanding of complex environments and tasks. For instance, in natural language processing, reflective mechanisms allow models to reconsider their responses based on context and prior interactions, leading to more coherent and contextually appropriate outputs.\n",
      "\n",
      "Additionally, reflective capabilities can enhance ethical decision-making in AI. By reflecting on the consequences of their actions, AI systems can better evaluate potential biases and unintended impacts, promoting fairness and accountability in their operations. Furthermore, reflection can aid in debugging and optimizing AI algorithms by providing insights into where a model may be failing or underperforming. Overall, reflection fosters continuous improvement, adaptability, and ethical considerations, all of which are essential for the advancement of AI technologies.\n",
      "    reflection: {'missing': 'The answer could provide more examples of specific AI applications that utilize reflection, such as self-driving cars or chatbots. It also lacks a discussion of the limitations of reflection in AI.', 'superfluous': 'Some portions of the explanation could be more concise, particularly the sections that reiterate the benefits of reflection without adding new information.'}\n",
      "    search_query: ['importance of reflection in AI', 'examples of reflective AI systems', 'limitations of reflection in artificial intelligence']\n",
      "Executing tool: {'name': 'AnswerQuestion', 'args': {'answer': 'Reflection is a crucial aspect of artificial intelligence (AI) because it enhances the ability of AI systems to learn from their experiences and adapt their behavior accordingly. By incorporating reflective processes, AI can analyze previous actions, evaluate their effectiveness, and adjust future strategies to improve outcomes. This is particularly significant in machine learning and reinforcement learning, where agents learn optimal behaviors through trial and error. \\n\\nMoreover, reflection can help AI systems develop a deeper understanding of complex environments and tasks. For instance, in natural language processing, reflective mechanisms allow models to reconsider their responses based on context and prior interactions, leading to more coherent and contextually appropriate outputs.\\n\\nAdditionally, reflective capabilities can enhance ethical decision-making in AI. By reflecting on the consequences of their actions, AI systems can better evaluate potential biases and unintended impacts, promoting fairness and accountability in their operations. Furthermore, reflection can aid in debugging and optimizing AI algorithms by providing insights into where a model may be failing or underperforming. Overall, reflection fosters continuous improvement, adaptability, and ethical considerations, all of which are essential for the advancement of AI technologies.', 'reflection': {'missing': 'The answer could provide more examples of specific AI applications that utilize reflection, such as self-driving cars or chatbots. It also lacks a discussion of the limitations of reflection in AI.', 'superfluous': 'Some portions of the explanation could be more concise, particularly the sections that reiterate the benefits of reflection without adding new information.'}, 'search_query': ['importance of reflection in AI', 'examples of reflective AI systems', 'limitations of reflection in artificial intelligence']}, 'id': 'call_NVBsJ5UBj9GsMRhSD626EUhB', 'type': 'tool_call'}\n",
      "Tool execution complete\n",
      "Step 2\n",
      "=================================\u001b[1m Tool Message \u001b[0m=================================\n",
      "Name: AnswerQuestion\n",
      "\n",
      "[[{\"url\": \"https://www.unite.ai/ais-inner-dialogue-how-self-reflection-enhances-chatbots-and-virtual-assistants/\", \"content\": \"Recognizing the importance of self-reflection in AI can lead to powerful technological advancements that are also responsible and empathetic to human needs and values. This empowerment of AI systems through self-reflection leads to a future where AI is not just a tool, but a partner in our digital interactions.\"}, {\"url\": \"https://www.linkedin.com/pulse/importance-self-reflection-artificial-intelligence-del-wester-uh6hc\", \"content\": \"By clicking Continue to join or sign in, you agree to LinkedIn\\u2019s User Agreement, Privacy Policy, and Cookie Policy. By clicking Continue to join or sign in, you agree to LinkedIn\\u2019s User Agreement, Privacy Policy, and Cookie Policy. By clicking Continue to join or sign in, you agree to LinkedIn\\u2019s User Agreement, Privacy Policy, and Cookie Policy. [Skip to main content](https://www.linkedin.com/pulse/importance-self-reflection-artificial-intelligence-del-wester-uh6hc#main-content) Self-reflection is a vital aspect of artificial intelligence (AI) that enables machines to analyze their own performance, identify areas for improvement, and adapt to changing situations. Cognitive architectures are software frameworks that simulate human cognition and enable AI systems to develop meta-cognitive skills, such as self-reflection. By clicking Continue to join or sign in, you agree to LinkedIn\\u2019s User Agreement, Privacy Policy, and Cookie Policy.\"}, {\"url\": \"https://bobweb.ai/the-importance-of-self-reflection-in-ai-how-it-improves-chatbots-and-virtual-assistants/\", \"content\": \"The Future of AI: Leveraging Self-Reflection for Progress. Self-reflection is the key to unlocking the full potential of AI systems, empowering them to become not just tools but true partners in our digital interactions. By embracing self-awareness, AI can evolve into more empathetic and effective technologies that cater to human needs and values.\"}], [{\"url\": \"https://www.inoru.com/reflection-based-ai-applications\", \"content\": \"Discover how reflection-based AI models are revolutionizing industries with adaptive, self-learning solutions. This next-generation AI taps into the power of reflection, enabling systems to adapt, evolve, and fine-tune themselves based on real-time feedback. For example, a reflection-based AI model can continuously \\\"learn\\\" from a doctor's input as they assess symptoms, adjusting its diagnostic approach based on real-time feedback. These AI models are continuously learning from customer behavior, gathering insights on everything from browsing habits to purchase history, and then reflecting on that data to deliver hyper-personalized marketing campaigns. Enter self-learning virtual workspaces, where reflection-based AI helps streamline collaboration and workflows in real time. Reflection-based AI models are not just tools\\u2014they are game changers, continuously learning and evolving to meet the unique demands of various industries.\"}, {\"url\": \"https://relevanceai.com/prompt-engineering/teach-your-ai-to-reflect-for-better-responses\", \"content\": \"Reflexion prompting is a technique that allows AI models to review and improve their own responses before delivering them, similar to how humans pause to reflect on their thoughts before speaking. For instance, in customer service scenarios, AI systems using Reflexion Prompting have shown marked improvements in response accuracy and user satisfaction. Reflexion prompting is a powerful technique that enables AI systems to review and improve their own responses before delivering them, leading to more accurate and thoughtful outputs. For example, when asking an AI for help with a complex task, you can include a simple prompt like \\\"Before providing your final answer, please review your response and identify any potential improvements or missing information.\\\" This extra step of self-evaluation helps ensure you receive more comprehensive and reliable assistance, much like asking a friend to double-check their work before sharing it.\"}, {\"url\": \"https://www.cioreview.com/vp/cognidaai/the_future_of_ai:_harnessing_the_power_of_reflection_for_superior_performance/\", \"content\": \"Reflective AI refers to artificial intelligence systems designed to monitor, analyze, and enhance their own processes and performance through self-assessment and adaptation. Reflective AI refers to artificial intelligence systems designed to monitor, analyze, and enhance their own processes and performance through self-assessment and adaptation. Incorporating self-improving ML models into reflective AI strategy allows organizations to build systems that are not only more intelligent and autonomous but also more aligned with user needs and business objectives. Incorporating self-improving ML models into reflective AI strategy allows organizations to build systems that are not only more intelligent and autonomous but also more aligned with user needs and business objectives. Self-driving cars use reflective AI to improve driving performance. Self-driving cars use reflective AI to improve driving performance.\"}], [{\"url\": \"https://libguides.mica.edu/c.php?g=1420274&p=10671057\", \"content\": \"The reflection and perpetuation of human biases in AI, along with the dominance of certain languages and cultures, pose significant challenges for creating inclusive and equitable AI systems. ... contractual restrictions can curtail any or all of those exceptions and limitations, such as fair use. For example, most things on the World Wide Web\"}, {\"url\": \"https://arxiv.org/abs/2301.10823\", \"content\": \"arXiv:2301.10823 Help | Advanced Search arXiv author ID Artificial Intelligence (AI) is about making computers that do the sorts of things that minds can do, and as we progress towards this goal, we tend to increasingly delegate human tasks to machines. However, AI systems usually do these tasks with an unusual imbalance of insight and understanding: new, deeper insights are present, yet many important qualities that a human mind would have previously brought to the activity are utterly absent. In this paper we ask what reflective AI might look like. Subjects:   Artificial Intelligence (cs.AI) Cite as:    arXiv:2301.10823 [cs.AI] (or arXiv:2301.10823v3 [cs.AI] for this version) https://doi.org/10.48550/arXiv.2301.10823 From: Stefan Sarkadi [view email] cs.AI Bibliographic and Citation Tools Connected Papers Toggle scite.ai Toggle\"}, {\"url\": \"https://link.springer.com/article/10.1007/s44163-025-00221-z\", \"content\": \"In parallel, the rise of artificial intelligence (AI) has ignited discussions about whether we can create machines that operate independently of human influence. Is it possible to develop AI systems that transcend the limits of their human creators, or will AI always be a reflection of human cognition and intent?\"}]]\n",
      "Step 3\n",
      "==================================\u001b[1m Ai Message \u001b[0m==================================\n",
      "Tool Calls:\n",
      "  RevisedAnswer (call_7bAgEpWwPsvXULLlwpIdfozQ)\n",
      " Call ID: call_7bAgEpWwPsvXULLlwpIdfozQ\n",
      "  Args:\n",
      "    answer: Reflection is essential in artificial intelligence (AI) because it allows systems to learn from experiences and adapt their behavior based on evaluations of past actions. This ability is particularly crucial in fields like reinforcement learning, where agents optimize their strategies through trial and error. For example, self-driving cars utilize reflective algorithms to improve navigation and decision-making by analyzing previous driving experiences to enhance safety and efficiency.\n",
      "\n",
      "In natural language processing, reflection mechanisms enable models to reassess their outputs based on context and prior interactions, leading to more relevant and coherent results. This is evident in chatbots that use self-reflection to refine their responses, resulting in improved user satisfaction.\n",
      "\n",
      "Furthermore, reflection plays a significant role in ethical AI. By evaluating the impacts of their decisions, AI systems can identify biases and unintended consequences, fostering fairness and accountability. However, the effectiveness of reflection in AI is contingent on the quality of the data and frameworks used, as poorly designed reflective processes can perpetuate existing biases. Thus, the integration of reflection not only enhances adaptability and learning but also promotes ethical considerations in AI development.\n",
      "    reflection: {'missing': 'The revised answer could further elaborate on specific frameworks or techniques that enable reflection in AI systems, such as cognitive architectures or self-improving models.', 'superfluous': 'Some explanations could be tightened up; for instance, the role of reflection in ethical AI could be more succinctly stated.'}\n",
      "    search_query: ['AI reflective algorithms', 'cognitive architectures in AI', 'ethical implications of reflective AI']\n",
      "Executing tool: {'name': 'RevisedAnswer', 'args': {'answer': 'Reflection is essential in artificial intelligence (AI) because it allows systems to learn from experiences and adapt their behavior based on evaluations of past actions. This ability is particularly crucial in fields like reinforcement learning, where agents optimize their strategies through trial and error. For example, self-driving cars utilize reflective algorithms to improve navigation and decision-making by analyzing previous driving experiences to enhance safety and efficiency.\\n\\nIn natural language processing, reflection mechanisms enable models to reassess their outputs based on context and prior interactions, leading to more relevant and coherent results. This is evident in chatbots that use self-reflection to refine their responses, resulting in improved user satisfaction.\\n\\nFurthermore, reflection plays a significant role in ethical AI. By evaluating the impacts of their decisions, AI systems can identify biases and unintended consequences, fostering fairness and accountability. However, the effectiveness of reflection in AI is contingent on the quality of the data and frameworks used, as poorly designed reflective processes can perpetuate existing biases. Thus, the integration of reflection not only enhances adaptability and learning but also promotes ethical considerations in AI development.', 'reflection': {'missing': 'The revised answer could further elaborate on specific frameworks or techniques that enable reflection in AI systems, such as cognitive architectures or self-improving models.', 'superfluous': 'Some explanations could be tightened up; for instance, the role of reflection in ethical AI could be more succinctly stated.'}, 'search_query': ['AI reflective algorithms', 'cognitive architectures in AI', 'ethical implications of reflective AI']}, 'id': 'call_7bAgEpWwPsvXULLlwpIdfozQ', 'type': 'tool_call'}\n",
      "Tool execution complete\n",
      "Step 4\n",
      "=================================\u001b[1m Tool Message \u001b[0m=================================\n",
      "Name: RevisedAnswer\n",
      "\n",
      "[[{\"url\": \"https://rdsai.org/\", \"content\": \"Reflective AI. Reflective AI represents a new frontier in artificial intelligence, designed to push the boundaries of machine learning and cognition. By integrating advanced memory systems and self-reflective algorithms, Reflective AI enables systems to learn not only from external inputs but from their own internal processing.\"}, {\"url\": \"https://www.cioreview.com/vp/cognidaai/the_future_of_ai:_harnessing_the_power_of_reflection_for_superior_performance/\", \"content\": \"Reflective AI refers to artificial intelligence systems designed to monitor, analyze, and enhance their own processes and performance through self-assessment and adaptation. Reflective AI refers to artificial intelligence systems designed to monitor, analyze, and enhance their own processes and performance through self-assessment and adaptation. Incorporating self-improving ML models into reflective AI strategy allows organizations to build systems that are not only more intelligent and autonomous but also more aligned with user needs and business objectives. Incorporating self-improving ML models into reflective AI strategy allows organizations to build systems that are not only more intelligent and autonomous but also more aligned with user needs and business objectives. Self-driving cars use reflective AI to improve driving performance. Self-driving cars use reflective AI to improve driving performance.\"}, {\"url\": \"https://www.getfrontline.ai/glossary/what-is-ai-agent-reflection\", \"content\": \"Frontline | Glossary | AI Agent Reflection AI Agent Reflection involves mechanisms that allow AI systems to evaluate their actions, learn from experiences, and adjust their strategies. AI Agent Reflection represents a significant advancement in the field of artificial intelligence, moving beyond simple task execution to create systems capable of self-analysis and improvement. In the context of AI, reflection enables agents to evaluate their performance, understand their decision-making processes, and make adjustments to enhance their capabilities over time. The implementation of reflection in AI agents typically involves several key components: performance monitoring, self-evaluation, strategy analysis, knowledge integration, adaptive planning, and meta-learning. Request early access or book a meeting with our team.\"}], [{\"url\": \"https://www.sciencedirect.com/science/article/pii/S138904171730222X\", \"content\": \"The role of cognitive architectures in general artificial intelligence - ScienceDirect The main role of Cognitive Architectures in AI is that one of enabling the realization of artificial systems able to exhibit intelligent behavior in a general setting through a detailed analogy with the constitutive and developmental functioning and mechanisms underlying human cognition. The design and development of Cognitive Architectures (CAs) is a wide and active area of research in Cognitive Science, Artificial Intelligence and, more recently, in the areas of Computational Neuroscience, Cognitive Robotics, and Computational Cognitive Systems. Recent studies of cognitive architectures indicate both abstract models of cognition, in natural and artificial agents, and the software-based models (Lieto, Bhatt, Oltramari, & Vernon, 2018) for designing systems that do the right things intelligently (Russell, 1997).\"}, {\"url\": \"https://www.autoblocks.ai/glossary/cognitive-architecture\", \"content\": \"Cognitive architectures are a powerful tool for understanding and building intelligent systems. The goals of cognitive architectures are to provide computational models of human cognition that can be used to build intelligent systems. One of the key goals of cognitive architectures is to provide a computational model of human cognition that can be used to build intelligent systems. Ultimately, the goals of cognitive architectures are to provide better models of human cognition and to build more intelligent AI systems. By doing so, cognitive architectures can help us better understand human cognition and build more powerful AI systems. How is cognitive architecture used in AI? Cognitive architectures are used in AI in order to create intelligent agents.\"}, {\"url\": \"https://en.wikipedia.org/wiki/Cognitive_architecture\", \"content\": \"The research on cognitive architectures as software instantiation of cognitive theories was initiated by Allen Newell in 1990.[2]\\nThe Institute for Creative Technologies defines cognitive architecture as: \\\"hypothesis about the fixed structures that provide a mind, whether in natural or artificial systems, and how they work together \\u2013 in conjunction with knowledge and skills embodied within the architecture \\u2013 to yield intelligent behavior in a diversity of complex environments. Contents\\nCognitive architecture\\nA cognitive architecture refers to both a theory about the structure of the human mind and to a computational instantiation of such a theory used in the fields of artificial intelligence (AI) and computational cognitive science.[1] \\\"[3]\\nHistory[edit]\\nHerbert A. Simon, one of the founders of the field of artificial intelligence, stated that the 1960 thesis by his student Ed Feigenbaum, EPAM provided a possible \\\"architecture for cognition\\\"[4] because it included some commitments for how more than one fundamental aspect of the human mind worked (in EPAM's case, human memory and human learning).\\n Biologically inspired computing, on the other hand, takes sometimes a more bottom-up, decentralised approach; bio-inspired techniques often involve the method of specifying a set of simple generic rules or a set of simple nodes, from the interaction of which emerges the overall behavior. The theory of cognition outlined the structure of the various parts of the mind and made commitments to the use of rules, associative networks, and other aspects.\"}], [{\"url\": \"https://www.geeksforgeeks.org/ai-ethics/\", \"content\": \"Artificial intelligence (AI) ethics is a field concerned with the ethical implications of developing and using AI systems. It's essentially a set of guiding principles that ensure AI technology is created and deployed in a responsible manner. ... AI Ethics Issues . AI ethics encompasses a broad and complex range of issues, reflecting the\"}, {\"url\": \"https://www.researchgate.net/publication/329275199_Ethical_Reflections_on_Artificial_Intelligence\", \"content\": \"Green (2018) offers a broader perspective on AI-related ethical issues such as bias, the potential increase in unemployment, and socioeconomic disparities, which are pertinent to the deployment of\"}, {\"url\": \"https://www.scu.edu/ethics/all-about-ethics/artificial-intelligence-and-ethics-sixteen-challenges-and-opportunities/\", \"content\": \"Available at: http://apcz.umk.pl/czasopisma/index.php/SetF/article/view/SetF.2018.015/15729\\nThank you to many people for all the helpful feedback which has helped me develop this list, including Maya Ackermann, Kirk Bresniker, Sanjiv Das, Kirk Hanson, Brian Klunk, Thane Kreiner, Angelus McNally, Irina Raicu, Leila Scola, Lili Tavlan, Shannon Vallor, the employees of several tech companies, the attendees of the PCTS Fall 2017 meeting, the attendees of the needed.education meetings, several anonymous reviewers, the professors and students of PACS003 at the University of the Pacific, the students of my ENGR 344: AI and Ethics course, as well as many more.\\n [6] Leila Scola, \\u201cAI and the Ethics of Energy Efficiency,\\u201d Markkula Center for Applied Ethics website, May 26, 2020, available at: https://www.scu.edu/environmental-ethics/resources/ai-and-the-ethics-of-energy-efficiency/\\n[7] Brian Patrick Green, \\u201cArtificial Intelligence, Decision-Making, and Moral Deskilling,\\u201d Markkula Center for Applied Ethics website, Mar 15, 2019, available at: https://www.scu.edu/ethics/focus-areas/technology-ethics/resources/artificial-intelligence-decision-making-and-moral-deskilling/\\n[8] Shannon Vallor, \\u201cMoral Deskilling and Upskilling in a New Machine Age: Reflections on the Ambiguous Future of Character.\\u201d\\u00a0Philosophy of Technology\\u00a028 (2015):107\\u2013124., available at:\\u00a0https://link.springer.com/article/10.1007/s13347-014-0156-9\\n[9] Brad Sylvester, \\u201cFact Check: Did Aristotle Say, \\u2018We Are What We Repeatedly Do\\u2019?\\u201d There is simply no way around it: the ethical decision-making process might be as simple as following a program to fairly distribute a benefit, wherein the decision is made by humans and executed by algorithms, but it also might entail much more detailed ethical analysis, even if we humans would prefer that it did not\\u2014this is because Ai will operate so much faster than humans can, that under some circumstances humans will be left \\u201cout of the loop\\u201d of control due to human slowness. AGI and Superintelligence\\nIf or when AI reaches human levels of intelligence, doing everything that humans can do as well the average human can, then it will be an Artificial General Intelligence\\u2014an AGI\\u2014and it will be the only other such intelligence to exist on Earth at the human level.\\n A Meta-Analytic Review,\\u201d Perspectives on Psychological Science 10(2) (2015): 227\\u2013237, available at: https://journals.sagepub.com/doi/full/10.1177/1745691614568352\\n[12] Markkula Center for Applied Ethics Staff, \\u201cAI: Ethical Challenges and a Fast Approaching Future: A panel discussion on artificial intelligence,\\u201d with Maya Ackerman, Sanjiv Das, Brian Green, and Irina Raicu, Santa Clara University, California, October 24, 2017, posted to the All About Ethics Blog, Oct 31, 2017, video available at: https://www.scu.edu/ethics/all-about-ethics/ai-ethical-challenges-and-a-fast-approaching-future/\\n[13] Brian Patrick Green, \\u201cSome Ethical and Theological Reflections on Artificial Intelligence,\\u201d Pacific Coast Theological Society (PCTS) meeting, Graduate Theological Union, Berkeley, 3-4 November, 2017, available at: http://www.pcts.org/meetings/2017/PCTS2017Nov-Green-ReflectionsAI.pdf\\n\"}]]\n",
      "Step 5\n",
      "==================================\u001b[1m Ai Message \u001b[0m==================================\n",
      "Tool Calls:\n",
      "  RevisedAnswer (call_yc5uQzcJ34UVAlAI2EKsPm0c)\n",
      " Call ID: call_yc5uQzcJ34UVAlAI2EKsPm0c\n",
      "  Args:\n",
      "    answer: Reflection is essential in artificial intelligence (AI) because it allows systems to learn from experiences and adapt their behavior based on evaluations of past actions. This ability is particularly crucial in reinforcement learning, where agents optimize their strategies through trial and error. For example, self-driving cars utilize reflective algorithms to improve navigation and decision-making by analyzing previous driving experiences to enhance safety and efficiency.\n",
      "\n",
      "In natural language processing, reflection mechanisms enable models to reassess their outputs based on context and prior interactions, leading to more relevant and coherent results. This is evident in chatbots that use self-reflection to refine their responses, resulting in improved user satisfaction.\n",
      "\n",
      "Furthermore, reflection plays a significant role in ethical AI. By evaluating the impacts of their decisions, AI systems can identify biases and unintended consequences, fostering fairness and accountability. However, the effectiveness of reflection in AI is contingent on the quality of the data and frameworks used, as poorly designed reflective processes can perpetuate existing biases. Thus, the integration of reflection not only enhances adaptability and learning but also promotes ethical considerations in AI development.\n",
      "    reflection: {'missing': 'The revised answer could further elaborate on specific frameworks or techniques that enable reflection in AI systems, such as cognitive architectures or self-improving models.', 'superfluous': 'Some explanations could be tightened up; for instance, the role of reflection in ethical AI could be more succinctly stated.'}\n",
      "    search_query: ['AI reflective algorithms', 'cognitive architectures in AI', 'ethical implications of reflective AI']\n",
      "    references: ['[1] https://www.unite.ai/ais-inner-dialogue-how-self-reflection-enhances-chatbots-and-virtual-assistants/', '[2] https://www.linkedin.com/pulse/importance-self-reflection-artificial-intelligence-del-wester-uh6hc', '[3] https://bobweb.ai/the-importance-of-self-reflection-in-ai-how-it-improves-chatbots-and-virtual-assistants/', '[4] https://www.inoru.com/reflection-based-ai-applications', '[5] https://relevanceai.com/prompt-engineering/teach-your-ai-to-reflect-for-better-responses', '[6] https://www.cioreview.com/vp/cognidaai/the_future_of_ai:_harnessing_the_power_of_reflection_for_superior_performance/']\n"
     ]
    }
   ],
   "source": [
    "events = run_graph.stream(\n",
    "    {\"messages\": [HumanMessage(content=question)]},\n",
    "    stream_mode=\"values\",\n",
    ")\n",
    "for i, step in enumerate(events):\n",
    "    print(f\"Step {i}\")\n",
    "    step[\"messages\"][-1].pretty_print()"
   ]
  }
 ],
 "metadata": {
  "kernelspec": {
   "display_name": "learn",
   "language": "python",
   "name": "python3"
  },
  "language_info": {
   "codemirror_mode": {
    "name": "ipython",
    "version": 3
   },
   "file_extension": ".py",
   "mimetype": "text/x-python",
   "name": "python",
   "nbconvert_exporter": "python",
   "pygments_lexer": "ipython3",
   "version": "3.10.16"
  }
 },
 "nbformat": 4,
 "nbformat_minor": 2
}
