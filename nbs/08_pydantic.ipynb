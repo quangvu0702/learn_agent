{
 "cells": [
  {
   "cell_type": "code",
   "execution_count": 1,
   "metadata": {},
   "outputs": [
    {
     "name": "stdout",
     "output_type": "stream",
     "text": [
      "John\n",
      "3 <class 'int'>\n",
      "name='Jane Doe' age=30\n",
      "{'name': 'Jane Doe', 'age': 30}\n"
     ]
    }
   ],
   "source": [
    "from pydantic import BaseModel\n",
    "\n",
    "class Person(BaseModel):\n",
    "    name: str = \"Jane Doe\"\n",
    "    age: int\n",
    "\n",
    "person = Person(name=\"John\", age=\"3\")\n",
    "print(person.name)\n",
    "print(person.age, type(person.age))\n",
    "\n",
    "\n",
    "user = Person(age=30)\n",
    "\n",
    "print(user)\n",
    "\n",
    "print(user.model_dump())"
   ]
  },
  {
   "cell_type": "code",
   "execution_count": 2,
   "metadata": {},
   "outputs": [
    {
     "name": "stdout",
     "output_type": "stream",
     "text": [
      "name='John' age=None friends=['Jane', 'Doe']\n",
      "{'name': 'John', 'age': None, 'friends': ['Jane', 'Doe']}\n"
     ]
    }
   ],
   "source": [
    "from typing import Optional, List\n",
    "\n",
    "class User(BaseModel):\n",
    "    name: str\n",
    "    age: Optional[int] = None\n",
    "    friends: List[str] = []\n",
    "\n",
    "user = User(name=\"John\", friends=[\"Jane\", \"Doe\"])\n",
    "\n",
    "print(user)\n",
    "print(user.model_dump())"
   ]
  },
  {
   "cell_type": "code",
   "execution_count": 3,
   "metadata": {},
   "outputs": [
    {
     "name": "stdout",
     "output_type": "stream",
     "text": [
      "name='John' age=30 address=[Address(street='123 Main St', city='Anytown', state='CA', zip='12345')]\n",
      "{'name': 'John', 'age': 30, 'address': [{'street': '123 Main St', 'city': 'Anytown', 'state': 'CA', 'zip': '12345'}]}\n"
     ]
    }
   ],
   "source": [
    "# more complex example\n",
    "\n",
    "class Address(BaseModel):\n",
    "    street: str\n",
    "    city: str\n",
    "    state: str\n",
    "    zip: str\n",
    "\n",
    "class User(BaseModel):\n",
    "    name: str\n",
    "    age: Optional[int] = None\n",
    "    address: List[Address] = []\n",
    "\n",
    "user = User(name=\"John\", age=30, address=[Address(street=\"123 Main St\", city=\"Anytown\", state=\"CA\", zip=\"12345\")])\n",
    "\n",
    "print(user)\n",
    "print(user.model_dump())"
   ]
  },
  {
   "cell_type": "code",
   "execution_count": 4,
   "metadata": {},
   "outputs": [
    {
     "name": "stdout",
     "output_type": "stream",
     "text": [
      "name='Laptop' price=1000.0 tags=['electronics', 'laptop'] metadata={'brand': 'Dell', 'model': 'Inspiron 15', 'version': 1.0}\n",
      "{'name': 'Laptop', 'price': 1000.0, 'tags': ['electronics', 'laptop'], 'metadata': {'brand': 'Dell', 'model': 'Inspiron 15', 'version': 1.0}}\n"
     ]
    }
   ],
   "source": [
    "# Define model\n",
    "from typing import List, Dict, Optional, Union\n",
    "\n",
    "class Item(BaseModel):\n",
    "    name: str\n",
    "    price: float\n",
    "    tags: List[str]\n",
    "    metadata: Dict[str, Union[str, int, float]]\n",
    "\n",
    "item = Item(name=\"Laptop\", price=1000, tags=[\"electronics\", \"laptop\"], metadata={\"brand\": \"Dell\", \"model\": \"Inspiron 15\", 'version': 1.0})\n",
    "\n",
    "print(item)\n",
    "print(item.model_dump())\n"
   ]
  },
  {
   "cell_type": "code",
   "execution_count": 5,
   "metadata": {},
   "outputs": [
    {
     "name": "stdout",
     "output_type": "stream",
     "text": [
      "name='John' age=110\n",
      "{'name': 'John', 'age': 110}\n"
     ]
    }
   ],
   "source": [
    "from pydantic import BaseModel, conint, constr\n",
    "\n",
    "class User(BaseModel):\n",
    "    name: constr(min_length=3, max_length=50)\n",
    "    age: conint(gt=0, lt=120)\n",
    "\n",
    "user = User(name=\"John\", age=110)\n",
    "\n",
    "# user = User(name=\"John\", age=133)\n",
    "print(user)\n",
    "print(user.model_dump())"
   ]
  },
  {
   "cell_type": "code",
   "execution_count": 6,
   "metadata": {},
   "outputs": [],
   "source": [
    "# create validator\n",
    "\n",
    "from pydantic import field_validator\n",
    "\n",
    "class User(BaseModel):\n",
    "    name: constr(min_length=3, max_length=50)\n",
    "    age: int\n",
    "\n",
    "    @field_validator('age')\n",
    "    def check_age(cls, v):\n",
    "        if v < 0:\n",
    "            raise ValueError(\"Age must be greater than 0\")\n",
    "        return v\n",
    "\n",
    "\n",
    "# user = User(name=\"John\", age=-1)\n",
    "# print(user)\n",
    "# print(user.model_dump())"
   ]
  },
  {
   "cell_type": "code",
   "execution_count": 7,
   "metadata": {},
   "outputs": [
    {
     "name": "stdout",
     "output_type": "stream",
     "text": [
      "John\n"
     ]
    }
   ],
   "source": [
    "from pydantic import BaseModel, field_validator\n",
    "\n",
    "\n",
    "class Person(BaseModel):\n",
    "    first_name: str\n",
    "    last_name: Optional[str] = None\n",
    "\n",
    "    @field_validator('first_name', 'last_name')\n",
    "    def names_cannot_be_empty(cls, value):\n",
    "        print(value)\n",
    "        if value is None:\n",
    "            raise ValueError('Name fields cannot be empty')\n",
    "        return value\n",
    "\n",
    "person = Person(first_name=\"John\")"
   ]
  },
  {
   "cell_type": "code",
   "execution_count": 8,
   "metadata": {},
   "outputs": [
    {
     "name": "stdout",
     "output_type": "stream",
     "text": [
      "chain_of_thought='\\n    I want to find the date range for the last 30 days.\\n    Today is 2025-01-07. Therefore the start date is 2024-12-08.\\n    ' start=datetime.date(2024, 12, 8) end=datetime.date(2025, 1, 7)\n",
      "{'start': datetime.date(2024, 12, 8), 'end': datetime.date(2025, 1, 7)}\n"
     ]
    }
   ],
   "source": [
    "from pydantic import Field, BaseModel\n",
    "from datetime import date\n",
    "\n",
    "class DateRange(BaseModel):\n",
    "    chain_of_thought: str = Field(\n",
    "        description=\"Reasoning behind the date range.\", exclude=True)\n",
    "    start: date\n",
    "    end: date\n",
    "\n",
    "date_range = DateRange(\n",
    "    chain_of_thought=\"\"\"\n",
    "    I want to find the date range for the last 30 days.\n",
    "    Today is 2025-01-07. Therefore the start date is 2024-12-08.\n",
    "    \"\"\",\n",
    "    start=date(2024, 12, 8),\n",
    "    end=date(2025, 1, 7)\n",
    ")\n",
    "\n",
    "print(date_range)\n",
    "print(date_range.model_dump())\n"
   ]
  },
  {
   "cell_type": "code",
   "execution_count": 9,
   "metadata": {},
   "outputs": [
    {
     "data": {
      "text/plain": [
       "{'properties': {'chain_of_thought': {'description': 'Reasoning behind the date range.',\n",
       "   'title': 'Chain Of Thought',\n",
       "   'type': 'string'},\n",
       "  'start': {'format': 'date', 'title': 'Start', 'type': 'string'},\n",
       "  'end': {'format': 'date', 'title': 'End', 'type': 'string'}},\n",
       " 'required': ['chain_of_thought', 'start', 'end'],\n",
       " 'title': 'DateRange',\n",
       " 'type': 'object'}"
      ]
     },
     "execution_count": 9,
     "metadata": {},
     "output_type": "execute_result"
    }
   ],
   "source": [
    "date_range.model_json_schema()"
   ]
  },
  {
   "cell_type": "code",
   "execution_count": 10,
   "metadata": {},
   "outputs": [
    {
     "name": "stdout",
     "output_type": "stream",
     "text": [
      "question='What is the capital of France?' private_field=None\n",
      "{'question': 'What is the capital of France?', 'private_field': None}\n"
     ]
    },
    {
     "data": {
      "text/plain": [
       "{'properties': {'question': {'description': 'The question asked by the user.',\n",
       "   'title': 'Question',\n",
       "   'type': 'string'}},\n",
       " 'required': ['question'],\n",
       " 'title': 'Response',\n",
       " 'type': 'object'}"
      ]
     },
     "execution_count": 10,
     "metadata": {},
     "output_type": "execute_result"
    }
   ],
   "source": [
    "from pydantic import BaseModel, Field\n",
    "from pydantic.json_schema import SkipJsonSchema\n",
    "from typing import Union\n",
    "\n",
    "class Response(BaseModel):\n",
    "    question: str = Field(description=\"The question asked by the user.\")\n",
    "    private_field: SkipJsonSchema[Union[str, int]] = None\n",
    "\n",
    "response = Response(question=\"What is the capital of France?\")\n",
    "print(response)\n",
    "print(response.model_dump())\n",
    "\n",
    "response.model_json_schema()\n"
   ]
  },
  {
   "cell_type": "code",
   "execution_count": 11,
   "metadata": {},
   "outputs": [
    {
     "data": {
      "text/plain": [
       "{'properties': {'age': {'description': 'The age of the user.',\n",
       "   'title': 'Age',\n",
       "   'type': 'integer'},\n",
       "  'name': {'title': 'Username', 'type': 'string'},\n",
       "  'password': {'description': 'The password of the user.',\n",
       "   'examples': ['password123', 'secret123'],\n",
       "   'title': 'Password',\n",
       "   'type': 'string'}},\n",
       " 'required': ['age', 'name', 'password'],\n",
       " 'title': 'User',\n",
       " 'type': 'object'}"
      ]
     },
     "execution_count": 11,
     "metadata": {},
     "output_type": "execute_result"
    }
   ],
   "source": [
    "from pydantic import BaseModel, Field, SecretStr\n",
    "\n",
    "class User(BaseModel):\n",
    "    age: int = Field(description=\"The age of the user.\")\n",
    "    name: str = Field(title=\"Username\")\n",
    "    password: str = Field(\n",
    "        json_schema_extra={\n",
    "            \"title\": \"Password\",\n",
    "            \"description\": \"The password of the user.\",\n",
    "            \"examples\": [\"password123\", \"secret123\"]\n",
    "        }\n",
    "    )\n",
    "user = User(age=30, name=\"john_doe\", password=\"hehe zz\")\n",
    "\n",
    "user.model_json_schema()\n"
   ]
  },
  {
   "cell_type": "code",
   "execution_count": 12,
   "metadata": {},
   "outputs": [
    {
     "name": "stdout",
     "output_type": "stream",
     "text": [
      "/home/vule/projects/learn_agent\n"
     ]
    }
   ],
   "source": [
    "cd .."
   ]
  },
  {
   "cell_type": "code",
   "execution_count": 32,
   "metadata": {},
   "outputs": [],
   "source": [
    "from src.key import openai_api_key\n",
    "\n",
    "from langchain_openai import ChatOpenAI\n",
    "\n",
    "llm = ChatOpenAI(api_key=openai_api_key, model=\"gpt-4o-mini\", temperature=1)\n"
   ]
  },
  {
   "cell_type": "code",
   "execution_count": 41,
   "metadata": {},
   "outputs": [
    {
     "name": "stdout",
     "output_type": "stream",
     "text": [
      "setup='Why did the chicken cross the road?' punchline='To get to the other side!'\n"
     ]
    }
   ],
   "source": [
    "from langchain_core.output_parsers import PydanticOutputParser\n",
    "from langchain_core.prompts import PromptTemplate\n",
    "\n",
    "class Joke(BaseModel):\n",
    "    setup: str = Field(description=\"question to setup of the joke.\")\n",
    "    punchline: str = Field(description=\"answer to punchline of the joke.\", min_length=4)\n",
    "\n",
    "joke_parser = PydanticOutputParser(pydantic_object=Joke)\n",
    "\n",
    "prompt = PromptTemplate(\n",
    "    template=\"Answer the user query.\\n{format_instructions}\\n{query}\",\n",
    "    input_variables=[\"query\"],\n",
    "    partial_variables={\"format_instructions\": joke_parser.get_format_instructions()}\n",
    ")\n",
    "\n",
    "generator = prompt | llm | joke_parser\n",
    "\n",
    "message = generator.invoke({\"query\": \"What is the setup of the joke?\"})\n",
    "\n",
    "print(message)"
   ]
  },
  {
   "cell_type": "code",
   "execution_count": 42,
   "metadata": {},
   "outputs": [
    {
     "data": {
      "text/plain": [
       "Joke(setup='Why did the chicken cross the road?', punchline='To get to the other side!')"
      ]
     },
     "execution_count": 42,
     "metadata": {},
     "output_type": "execute_result"
    }
   ],
   "source": [
    "message"
   ]
  },
  {
   "cell_type": "code",
   "execution_count": 45,
   "metadata": {},
   "outputs": [
    {
     "name": "stdout",
     "output_type": "stream",
     "text": [
      "name='Tom Hanks' films=[Film(title='Forrest Gump', year=1994, director='Robert Zemeckis'), Film(title='Saving Private Ryan', year=1998, director='Steven Spielberg'), Film(title='Cast Away', year=2000, director='Robert Zemeckis'), Film(title='Toy Story', year=1995, director='John Lasseter'), Film(title='The Green Mile', year=1999, director='Frank Darabont')]\n"
     ]
    }
   ],
   "source": [
    "# Example create a prompt to get the actors and their films\n",
    "\n",
    "# Import field\n",
    "from pydantic import Field\n",
    "\n",
    "\n",
    "class Film(BaseModel):\n",
    "    title: str = Field(description=\"The title of the film.\")\n",
    "    year: int = Field(description=\"The year of the film.\")\n",
    "    director: str = Field(description=\"The director of the film.\")\n",
    "\n",
    "class Actor(BaseModel):\n",
    "    name: str = Field(description=\"The name of the actor.\")\n",
    "    films: List[Film] = Field(description=\"The films of the actor.\")\n",
    "\n",
    "actor_parser = PydanticOutputParser(pydantic_object=Actor)\n",
    "\n",
    "prompt = PromptTemplate(\n",
    "    template=\"Answer the user query.\\n{format_instructions}\\n{query}\",\n",
    "    input_variables=[\"query\"],\n",
    "    partial_variables={\"format_instructions\": actor_parser.get_format_instructions()}\n",
    ")\n",
    "\n",
    "generator = prompt | llm | actor_parser\n",
    "\n",
    "message = generator.invoke({\"query\": \"What are the films of Tom Hanks?\"})\n",
    "\n",
    "print(message)"
   ]
  },
  {
   "cell_type": "code",
   "execution_count": 48,
   "metadata": {},
   "outputs": [
    {
     "name": "stdout",
     "output_type": "stream",
     "text": [
      "Forrest Gump (1994) directed by Robert Zemeckis\n",
      "Saving Private Ryan (1998) directed by Steven Spielberg\n",
      "Cast Away (2000) directed by Robert Zemeckis\n",
      "Toy Story (1995) directed by John Lasseter\n",
      "The Green Mile (1999) directed by Frank Darabont\n"
     ]
    }
   ],
   "source": [
    "for o in message.films:\n",
    "    print(f\"{o.title} ({o.year}) directed by {o.director}\")"
   ]
  }
 ],
 "metadata": {
  "kernelspec": {
   "display_name": "learn",
   "language": "python",
   "name": "python3"
  },
  "language_info": {
   "codemirror_mode": {
    "name": "ipython",
    "version": 3
   },
   "file_extension": ".py",
   "mimetype": "text/x-python",
   "name": "python",
   "nbconvert_exporter": "python",
   "pygments_lexer": "ipython3",
   "version": "3.10.16"
  }
 },
 "nbformat": 4,
 "nbformat_minor": 2
}
